{
 "cells": [
  {
   "cell_type": "code",
   "execution_count": null,
   "metadata": {},
   "outputs": [],
   "source": [
    "%pylab inline\n",
    "%load_ext autoreload\n",
    "%autoreload 2\n",
    "\n",
    "import matplotlib.pyplot as plt\n",
    "import numpy as np\n",
    "from PIL import Image"
   ]
  },
  {
   "cell_type": "markdown",
   "metadata": {},
   "source": [
    "# Linear Algebra\n",
    "\n",
    "There are 3 types of vectors\n",
    "1) Geometric vectors \\\n",
    "    $\\vec{a} + \\vec{b} = ...$\n",
    "2) Polynomils \\\n",
    "    $p(x) = x^3-2x+5$ \\\n",
    "    $q(x) = x^3+3x-7$ \n",
    "3) $\\mathbb{R}^n$ tuples \\\n",
    "    $a = [1, 2, 3] $ \\\n",
    "    $b = [7, 2, 9] $"
   ]
  },
  {
   "cell_type": "markdown",
   "metadata": {},
   "source": [
    "## Geometric Vectors\n",
    "If you add 2 3D vectors together they lay on a 3D plane. The sum of these vectors lays on the same plane.\n"
   ]
  },
  {
   "cell_type": "code",
   "execution_count": null,
   "metadata": {},
   "outputs": [
    {
     "data": {
      "text/plain": [
       "array([0.9, 0. ])"
      ]
     },
     "execution_count": 10,
     "metadata": {},
     "output_type": "execute_result"
    },
    {
     "data": {
      "image/png": "[encoded data removed]",
      "text/plain": [
       "<Figure size 432x288 with 1 Axes>"
      ]
     },
     "metadata": {
      "needs_background": "light"
     },
     "output_type": "display_data"
    }
   ],
   "source": [
    "# here any linear combination of a and b will result in a new vector \n",
    "# which will lay on the plane a and b create. \n",
    "\n",
    "a, b = np.array([1, 1]), np.array([0.1, 1])\n",
    "c = a-b\n",
    "\n",
    "ax, ay = a; bx, by = b; cx, cy = c\n",
    "plt.plot([0, ax], [0, ay])\n",
    "plt.plot([0, bx], [0, by])\n",
    "plt.plot([bx, bx+cx], [ay+0, ay+cy])\n",
    "plt.legend(['a', 'b', 'c'])\n",
    "c"
   ]
  },
  {
   "cell_type": "markdown",
   "metadata": {},
   "source": [
    "## Vector Properties\n",
    "The following are properties that every vector MUST have \n",
    "1) <b>Commutativity</b> \\\n",
    "    $\\vec{a} + \\vec{b} = \\vec{b} + \\vec{a}$\n",
    "    \n",
    "2) <b>Associativity</b> \\\n",
    "    $(\\vec{a} + \\vec{b}) + \\vec{c} = \\vec{a} + (\\vec{b} + \\vec{c})$ \n",
    "\n",
    "3) <b>Distributivity</b> \\\n",
    "    $\\alpha \\vec{a} + \\alpha \\vec{b} = \\alpha(\\vec{a} + \\vec{b})$ \n",
    "\n",
    "<br>\n",
    "\n",
    "## Valid vectors\n",
    "\n",
    "\n",
    "<table style=\"border-style: hidden;\">\n",
    "<tr>\n",
    "<td style=\"width: 40%; vertical-align: top;\">\n",
    "    <p>In linear algebra, valid vectors must originate from the origin, this approach differs from the accepted method in physics. We do it to solve the following problem:</p>\n",
    "    We want vectors with the same direction and length to be the same. In physics this is allowd by moving the vector, while we cleanly solve this by making valid vectors must originate from the origin.\n",
    "</td>\n",
    "<td>\n",
    "    <img src=\"images/floating_vectors.jpg\" height=\"150\" />\n",
    "</td>\n",
    "</tr>\n",
    "</table>\n",
    "\n",
    "\n",
    "<br>\n",
    "\n",
    "## Subspace\n",
    "\n",
    "<table style=\"border-style: hidden;\">\n",
    "<tr>\n",
    "<td style=\"width: 40%; vertical-align: top;\">\n",
    "    For vectors you can define a subspace which will constrain it into it. \n",
    "    For geometric vectors this can be seen as two vectors defining a subspace where any vector created from both must be in their subspace.\n",
    "    e.g. see image to the right. \n",
    "</td>\n",
    "<td>\n",
    "    <img src=\"images/geometric_vector_subspace.jpg\" height=\"150\" />\n",
    "</td>\n",
    "</tr>\n",
    "</table>\n",
    "\n",
    "\n",
    "For polynomials if you have let's say:  \n",
    "\n",
    "$f(x) = -2x^2+3x$ \\\n",
    "$g(x) = 7x^2 + (-2x)$\n",
    "\n",
    "They too, are constrained to a subspace. Both cross $y=0$ when $x=0$\n",
    "\n"
   ]
  },
  {
   "cell_type": "code",
   "execution_count": null,
   "metadata": {},
   "outputs": [
    {
     "data": {
      "text/plain": [
       "<matplotlib.legend.Legend at 0x28d5ce77a88>"
      ]
     },
     "execution_count": 18,
     "metadata": {},
     "output_type": "execute_result"
    },
    {
     "data": {
      "image/png": "[encoded data removed]",
      "text/plain": [
       "<Figure size 432x288 with 1 Axes>"
      ]
     },
     "metadata": {
      "needs_background": "light"
     },
     "output_type": "display_data"
    }
   ],
   "source": [
    "def f(x): return -2*(x**2) + 3*x\n",
    "def g(x): return 7*(x**2) + -2*x\n",
    "xpoints = np.linspace(-.3, .5)\n",
    "plt.plot(xpoints, f(xpoints))\n",
    "plt.plot(xpoints, g(xpoints))\n",
    "plt.axhline(y=0, color='k')\n",
    "plt.axvline(x=0, color='k')\n",
    "plt.legend(['f', 'g'])"
   ]
  },
  {
   "cell_type": "markdown",
   "metadata": {},
   "source": [
    "Same is with $\\mathbb{R}^n$ "
   ]
  },
  {
   "cell_type": "code",
   "execution_count": null,
   "metadata": {},
   "outputs": [
    {
     "name": "stdout",
     "output_type": "stream",
     "text": [
      "a+b: [-1  9 -3] \n",
      "3, -6\n"
     ]
    }
   ],
   "source": [
    "a = np.array([1, 2, 3])\n",
    "b = np.array([-2, 7, -6])\n",
    "\n",
    "# as you can see the last element of all of these vectors a[2], b[2]\n",
    "# are divizable by 3, and the last element of the vector we got also maintains this property\n",
    "# meaning it is constrained to a subspace.\n",
    "print(f'a+b: {a+b} \\n{a[2]}, {b[2]}')"
   ]
  },
  {
   "cell_type": "markdown",
   "metadata": {},
   "source": [
    "## Linear combinations\n",
    "\n",
    "$\\alpha a + \\beta b$"
   ]
  },
  {
   "cell_type": "code",
   "execution_count": null,
   "metadata": {},
   "outputs": [
    {
     "data": {
      "text/plain": [
       "<matplotlib.legend.Legend at 0x28d5dbded48>"
      ]
     },
     "execution_count": 22,
     "metadata": {},
     "output_type": "execute_result"
    },
    {
     "data": {
      "image/png": "[encoded data removed]",
      "text/plain": [
       "<Figure size 1080x360 with 2 Axes>"
      ]
     },
     "metadata": {
      "needs_background": "light"
     },
     "output_type": "display_data"
    }
   ],
   "source": [
    "# a, b functions with the property of f(2) = 0\n",
    "# from what we can see, a linear combination of a & b\n",
    "# would result in a new vector that has the same property\n",
    "\n",
    "def a(x): return x**2 - 4\n",
    "def b(x): return 3*(x**2) -3*x -6 \n",
    "\n",
    "fig, axs = plt.subplots(1, 2, figsize=(15, 5))\n",
    "\n",
    "xpoints = np.linspace(-3, 3)\n",
    "c = 2*a(xpoints) + -3*b(xpoints)\n",
    "\n",
    "axs[0].plot(xpoints, a(xpoints)); axs[0].plot(xpoints, b(xpoints)); axs[0].plot(xpoints, c)\n",
    "axs[0].scatter([2], [0]) # showing the point (2, 0) aka f(2) = 0\n",
    "\n",
    "axs[0].axhline(y=0, color='k')\n",
    "axs[0].axvline(x=0, color='k')\n",
    "axs[0].set_title('f(2) = 0')\n",
    "axs[0].legend(['a', 'b', 'c'])\n",
    "\n",
    "\n",
    "# a, b functions with the property of f(2) = 1\n",
    "# from what we can see, a linear combination of a & b\n",
    "# would not result in a new vector that has the same property\n",
    "# because for 2a(2) -3b(2) the result is -1\n",
    "\n",
    "def a(x): return x**2 -3\n",
    "def b(x): return 3*(x**2) -3*x -5\n",
    "\n",
    "xpoints = np.linspace(-1, 2.5)\n",
    "c = 2*a(xpoints) + -3*b(xpoints)\n",
    "axs[1].plot(xpoints, a(xpoints)); axs[1].plot(xpoints, b(xpoints)); axs[1].plot(xpoints, c)\n",
    "axs[1].scatter([2], [1])\n",
    "axs[1].scatter([2], [-1])\n",
    "\n",
    "axs[1].set_title('f(2) = 1')\n",
    "axs[1].axhline(y=0, color='k')\n",
    "axs[1].legend(['a', 'b', 'c'])\n",
    "\n",
    "# c = 3*a(2) + -6*b(2)\n",
    "# c, a(2), b(2)"
   ]
  },
  {
   "cell_type": "code",
   "execution_count": null,
   "metadata": {},
   "outputs": [
    {
     "data": {
      "text/plain": [
       "array([-18,   0,  18])"
      ]
     },
     "execution_count": 23,
     "metadata": {},
     "output_type": "execute_result"
    }
   ],
   "source": [
    "# For R^n vectors, we can see the property of x1 = -x3 \n",
    "# stays even after within the linear combination of a & b\n",
    "a = np.array([3, 15, -3])\n",
    "b = np.array([8, 10, -8])\n",
    "2*a + -3*b"
   ]
  },
  {
   "cell_type": "code",
   "execution_count": null,
   "metadata": {},
   "outputs": [
    {
     "data": {
      "text/plain": [
       "array([-16,  -6,  20])"
      ]
     },
     "execution_count": 24,
     "metadata": {},
     "output_type": "execute_result"
    }
   ],
   "source": [
    "# But we can also, see that the property of \n",
    "# x1 = -x3 + 1 does not stay within the linear combination\n",
    "a = np.array([1, 3, -2])\n",
    "b = np.array([3, 2, -4])\n",
    "2*a + -6*b"
   ]
  },
  {
   "cell_type": "markdown",
   "metadata": {},
   "source": [
    "Zero vector - The zero vector is a vector that when added to a vector does not change it."
   ]
  },
  {
   "cell_type": "code",
   "execution_count": null,
   "metadata": {},
   "outputs": [],
   "source": []
  },
  {
   "cell_type": "markdown",
   "metadata": {},
   "source": [
    "Linear span - linear span of a set S of vectors (from a vector space), denoted span(S), is the smallest linear subspace that contains the set."
   ]
  },
  {
   "cell_type": "markdown",
   "metadata": {},
   "source": [
    "We can prove that any two points in the plane that don't point in the same direction span the entire plane. In other words any plane can be expressed as any linear combination of those vectors."
   ]
  },
  {
   "cell_type": "markdown",
   "metadata": {},
   "source": [
    "## Decomposition\n",
    "The task of decomposition is to determine the unknown coefficients in a linear combination that expresses some given vector with respect to a given set of vectors"
   ]
  },
  {
   "cell_type": "markdown",
   "metadata": {},
   "source": [
    "Bootstrapping - The process of bootstrapping in mathmatics refers to algorithems where at the beginning you may not know all the steps, only the first step is clear, but once you accoplished it the second step becomes clear"
   ]
  },
  {
   "cell_type": "markdown",
   "metadata": {},
   "source": [
    "Spanning set - \\\n",
    "Dimention -    \\\n",
    "Basis -"
   ]
  },
  {
   "cell_type": "markdown",
   "metadata": {},
   "source": [
    "Can one of these vectors be decomposed as a linear combination of the rest? \n",
    "\n",
    "$$\n",
    "x^2 -72x + 9 \\\\\n",
    "13x^2 + 54x - 113 \\\\\n",
    "\\pi x^2 -17x + \\sqrt{2}\\\\\n",
    "ex^2 + \\sqrt{19}x -4\n",
    "$$\n",
    "\n",
    "The basis of these vectors is 3 dimentional\n",
    "$${[x^2, x, 1]}$$\n",
    "\n",
    "This tells us that we need only 3 vectors to represent the span of this space meaning yes, these polynomials are linearly depended and one of the vectors can be decomposed as a linear combination of the other 3. "
   ]
  },
  {
   "cell_type": "markdown",
   "metadata": {},
   "source": [
    "Let's try to solve this system of linear equations. Also, how many solutions it has? Does it have any? \n",
    "\n",
    "$$\n",
    "3x +\\sqrt{7}y -5z -4t = 2 \\\\\n",
    "11x - 17y + 113z -11t = 4 \\\\ \n",
    "15x + 3y - 15z + \\pi t = 15\n",
    "$$\n",
    "\n",
    "$$\n",
    "\\begin{bmatrix} 3 \\\\ 11 \\\\ 15 \\end{bmatrix}\n",
    "x \n",
    "+\n",
    "\\begin{bmatrix} \\sqrt{7} \\\\ -17 \\\\ 3 \\end{bmatrix}\n",
    "y\n",
    "+\n",
    "\\begin{bmatrix} -5 \\\\ 113 \\\\ -15 \\end{bmatrix}\n",
    "z\n",
    "+ \n",
    "\\begin{bmatrix} -4 \\\\ -11 \\\\ \\pi \\end{bmatrix}\n",
    "t\n",
    "=\n",
    "\\begin{bmatrix} 2 \\\\ 4 \\\\ 15 \\end{bmatrix}\n",
    "$$"
   ]
  },
  {
   "cell_type": "markdown",
   "metadata": {},
   "source": [
    "Addressing the questions of whether there is a solution. \\\n",
    "That question is eqivelent to whether we can decompose the vector above to the 4 vectors we can see above. \\\n",
    "Is the composition possible? \\\n",
    "yo"
   ]
  },
  {
   "cell_type": "code",
   "execution_count": 1,
   "metadata": {},
   "outputs": [],
   "source": [
    "# TODO: rewatch the fist vid on linear systems and so on, and comment in here. "
   ]
  },
  {
   "cell_type": "code",
   "execution_count": 11,
   "metadata": {},
   "outputs": [
    {
     "name": "stdout",
     "output_type": "stream",
     "text": [
      "mat: [[1, 2, 3], [4, 5, 6], [7, 8, 9]] \n",
      "vec: [20, 50, 80]\n"
     ]
    }
   ],
   "source": [
    "mat = [\n",
    "  [1, 2, 3],\n",
    "  [4, 5, 6],\n",
    "  [7, 8, 9],\n",
    "]\n",
    "\n",
    "vec = [\n",
    "  20, 50, 80\n",
    "]\n",
    "\n",
    "print(f'mat: {mat} \\nvec: {vec}')"
   ]
  }
 ],
 "metadata": {
  "kernelspec": {
   "display_name": "Python 3.7.13 ('net')",
   "language": "python",
   "name": "python3"
  },
  "language_info": {
   "codemirror_mode": {
    "name": "ipython",
    "version": 3
   },
   "file_extension": ".py",
   "mimetype": "text/x-python",
   "name": "python",
   "nbconvert_exporter": "python",
   "pygments_lexer": "ipython3",
   "version": "3.7.13 (default, Mar 28 2022, 08:03:21) [MSC v.1916 64 bit (AMD64)]"
  },
  "orig_nbformat": 4,
  "vscode": {
   "interpreter": {
    "hash": "46b9170fdf92c23cc3e3b131494cadcf9ba12dce192d70b41d5030bfbd5436a0"
   }
  }
 },
 "nbformat": 4,
 "nbformat_minor": 2
}
