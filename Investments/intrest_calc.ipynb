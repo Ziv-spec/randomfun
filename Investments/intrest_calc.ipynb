{
 "cells": [
  {
   "cell_type": "code",
   "execution_count": 51,
   "metadata": {},
   "outputs": [
    {
     "data": {
      "text/plain": [
       "9127.68292800001"
      ]
     },
     "execution_count": 51,
     "metadata": {},
     "output_type": "execute_result"
    }
   ],
   "source": [
    "# calculating the result of my investment portfolio with a given expected intrest rates\n",
    "tax = 0.25\n",
    "y = 3 \n",
    "\n",
    "b, s = 57_808.61, 7_754.74 # bank, savings\n",
    "inv,  inv_i  = 50_000,  1.05\n",
    "save, save_i = 5_000+s, 1.05\n",
    "\n",
    "left = (b+s -(inv+save))\n",
    "\n",
    "begin = b+s\n",
    "end = inv*(inv_i**y) + save*(save_i**y) + left\n",
    "p = (end - begin)*(1-tax) + (save*(save_i**y)-save)*(1-0.15) # profit\n",
    "r = p / (b+s) # return on investment / duration\n",
    "p"
   ]
  },
  {
   "cell_type": "code",
   "execution_count": 62,
   "metadata": {},
   "outputs": [
    {
     "data": {
      "text/plain": [
       "264950.73278715543"
      ]
     },
     "execution_count": 62,
     "metadata": {},
     "output_type": "execute_result"
    }
   ],
   "source": [
    "end"
   ]
  },
  {
   "cell_type": "code",
   "execution_count": 19,
   "metadata": {},
   "outputs": [
    {
     "data": {
      "text/plain": [
       "33600"
      ]
     },
     "execution_count": 19,
     "metadata": {},
     "output_type": "execute_result"
    }
   ],
   "source": [
    "army = (y * 12) * 1400\n",
    "army"
   ]
  },
  {
   "cell_type": "code",
   "execution_count": 8,
   "metadata": {},
   "outputs": [
    {
     "data": {
      "text/plain": [
       "71822.147536765"
      ]
     },
     "execution_count": 8,
     "metadata": {},
     "output_type": "execute_result"
    }
   ],
   "source": []
  },
  {
   "cell_type": "markdown",
   "metadata": {},
   "source": [
    "Proving https://www.engraved.blog/but-why-is-diversification-a-free-lunch/"
   ]
  },
  {
   "cell_type": "code",
   "execution_count": 47,
   "metadata": {},
   "outputs": [
    {
     "data": {
      "text/plain": [
       "Text(0, 0.5, 'Probability density')"
      ]
     },
     "execution_count": 47,
     "metadata": {},
     "output_type": "execute_result"
    },
    {
     "data": {
      "image/png": "[encoded data removed]",
      "text/plain": [
       "<Figure size 432x288 with 1 Axes>"
      ]
     },
     "metadata": {
      "needs_background": "light"
     },
     "output_type": "display_data"
    }
   ],
   "source": [
    "import numpy as np\n",
    "import matplotlib.pyplot as plt\n",
    "\n",
    "step = 0.5\n",
    "\n",
    "d1 = np.arange(1, 7)\n",
    "\n",
    "# this is how to calculate the standard deviation\n",
    "d1_mean = d1.mean()\n",
    "d1_var = np.power(d1 - d1_mean, 2).mean()\n",
    "d1_std = np.sqrt(d1_var)\n",
    "\n",
    "assert (d1_var, d1_std) == (d1.var(), d1.std())\n",
    "\n",
    "offset = step/2 \n",
    "counts, bins = np.histogram(d1-offset, bins=np.arange(1, 7, step)-offset)\n",
    "plt.stairs(counts, bins, fill=True)\n",
    "plt.title(f'd1 (mean: {d1_mean:.1f} var: {d1_var:.4f} std: {d1_std:.4f})')\n",
    "plt.xlabel('Return on investment')\n",
    "plt.ylabel('Probability density')\n",
    "\n",
    "\n"
   ]
  },
  {
   "cell_type": "code",
   "execution_count": 48,
   "metadata": {},
   "outputs": [
    {
     "data": {
      "text/plain": [
       "Text(0, 0.5, 'Probability density')"
      ]
     },
     "execution_count": 48,
     "metadata": {},
     "output_type": "execute_result"
    },
    {
     "data": {
      "image/png": "[encoded data removed]",
      "text/plain": [
       "<Figure size 432x288 with 1 Axes>"
      ]
     },
     "metadata": {
      "needs_background": "light"
     },
     "output_type": "display_data"
    }
   ],
   "source": [
    "d2 = np.arange(1, 7)\n",
    "values = np.concatenate([v + d2 for v in d1])/2\n",
    "counts, bins = np.histogram(values-offset/2, bins=np.arange(1, 7, 0.25)-offset/2)\n",
    "plt.stairs(counts, bins, fill=True)\n",
    "plt.title(f'd1 + d2 - (mean: {values.mean()} var: {values.var():.4f} std: {values.std():.4f})')\n",
    "plt.xlabel('Return on investment')\n",
    "plt.ylabel('Probability density')"
   ]
  },
  {
   "cell_type": "code",
   "execution_count": null,
   "metadata": {},
   "outputs": [],
   "source": []
  },
  {
   "cell_type": "code",
   "execution_count": 23,
   "metadata": {},
   "outputs": [
    {
     "data": {
      "text/plain": [
       "1311.9890199999973"
      ]
     },
     "execution_count": 23,
     "metadata": {},
     "output_type": "execute_result"
    }
   ],
   "source": [
    "sys = 7_764.06\n",
    "sos = 15_000\n",
    "sy = sys * 1.017 + 550\n",
    "so = sos * 1.042\n",
    "\n",
    "(sy + so) - (sys + sos)"
   ]
  },
  {
   "cell_type": "code",
   "execution_count": null,
   "metadata": {},
   "outputs": [],
   "source": [
    "(sy + so) / (sys + sos)"
   ]
  },
  {
   "cell_type": "code",
   "execution_count": 9,
   "metadata": {},
   "outputs": [
    {
     "data": {
      "text/plain": [
       "44137.11"
      ]
     },
     "execution_count": 9,
     "metadata": {},
     "output_type": "execute_result"
    }
   ],
   "source": [
    "inv = 59_137.11 - 15000\n",
    "inv"
   ]
  },
  {
   "cell_type": "code",
   "execution_count": 20,
   "metadata": {},
   "outputs": [
    {
     "data": {
      "text/plain": [
       "2206.855500000005"
      ]
     },
     "execution_count": 20,
     "metadata": {},
     "output_type": "execute_result"
    }
   ],
   "source": [
    "inv * 1.05 - inv"
   ]
  }
 ],
 "metadata": {
  "kernelspec": {
   "display_name": "net",
   "language": "python",
   "name": "python3"
  },
  "language_info": {
   "codemirror_mode": {
    "name": "ipython",
    "version": 3
   },
   "file_extension": ".py",
   "mimetype": "text/x-python",
   "name": "python",
   "nbconvert_exporter": "python",
   "pygments_lexer": "ipython3",
   "version": "3.7.13"
  },
  "orig_nbformat": 4
 },
 "nbformat": 4,
 "nbformat_minor": 2
}
