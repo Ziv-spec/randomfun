{
 "cells": [
  {
   "cell_type": "code",
   "execution_count": 1,
   "metadata": {},
   "outputs": [],
   "source": [
    "from tinygrad.lazy import Device\n",
    "from tinygrad.tensor import Tensor \n",
    "import numpy as np "
   ]
  },
  {
   "cell_type": "code",
   "execution_count": 2,
   "metadata": {},
   "outputs": [],
   "source": [
    "words = open('names.txt', 'r').read().splitlines()"
   ]
  },
  {
   "cell_type": "code",
   "execution_count": 3,
   "metadata": {},
   "outputs": [],
   "source": [
    "chars = sorted(list(set(''.join(words))))\n",
    "stoi = { s:i+1 for i, s in enumerate(chars)}\n",
    "stoi['.'] = 0\n",
    "itos = {i:s for s, i in stoi.items()}"
   ]
  },
  {
   "cell_type": "code",
   "execution_count": 51,
   "metadata": {},
   "outputs": [],
   "source": [
    "\n",
    "xs, ys = [], []\n",
    "losses = []\n",
    "\n",
    "for w in words:\n",
    "  chs = ['.'] + list(w) + ['.']\n",
    "  for ch1, ch2 in zip(chs, chs[1:]): \n",
    "    ix1, ix2 = stoi[ch1], stoi[ch2]\n",
    "    xs.append(ix1)\n",
    "    ys.append(ix2)\n",
    "\n",
    "xs, ys = Tensor(xs), Tensor(ys)"
   ]
  },
  {
   "cell_type": "code",
   "execution_count": 49,
   "metadata": {},
   "outputs": [],
   "source": [
    "Device.DEFAULT = 'CPU'"
   ]
  },
  {
   "cell_type": "code",
   "execution_count": null,
   "metadata": {},
   "outputs": [
    {
     "name": "stdout",
     "output_type": "stream",
     "text": [
      "[3.4030433]\n",
      "<Tensor <LB (27, 27) dtypes.float op:BinaryOps.ADD st:ShapeTracker(shape=(27, 27), views=[View((27, 27), (27, 1), 0)])> with grad None>\n"
     ]
    },
    {
     "ename": "AssertionError",
     "evalue": "",
     "output_type": "error",
     "traceback": [
      "\u001b[1;31m---------------------------------------------------------------------------\u001b[0m",
      "\u001b[1;31mAssertionError\u001b[0m                            Traceback (most recent call last)",
      "Cell \u001b[1;32mIn[57], line 26\u001b[0m\n\u001b[0;32m     24\u001b[0m \u001b[39m# update \u001b[39;00m\n\u001b[0;32m     25\u001b[0m \u001b[39mprint\u001b[39m(W\u001b[39m.\u001b[39mgrad)\n\u001b[1;32m---> 26\u001b[0m W \u001b[39m+\u001b[39m\u001b[39m=\u001b[39m \u001b[39m-\u001b[39m\u001b[39m30\u001b[39m \u001b[39m*\u001b[39m W\u001b[39m.\u001b[39mgrad\n\u001b[0;32m     28\u001b[0m \u001b[39m# losses.append(loss.detach())\u001b[39;00m\n\u001b[0;32m     29\u001b[0m \u001b[39mbreak\u001b[39;00m\n",
      "File \u001b[1;32me:\\dev\\tinygrad\\tinygrad\\tensor.py:429\u001b[0m, in \u001b[0;36mTensor.__iadd__\u001b[1;34m(self, x)\u001b[0m\n\u001b[1;32m--> 429\u001b[0m \u001b[39mdef\u001b[39;00m \u001b[39m__iadd__\u001b[39m(\u001b[39mself\u001b[39m, x) \u001b[39m-\u001b[39m\u001b[39m>\u001b[39m Tensor: \u001b[39mreturn\u001b[39;00m \u001b[39mself\u001b[39;49m\u001b[39m.\u001b[39;49massign(\u001b[39mself\u001b[39;49m\u001b[39m.\u001b[39;49madd(x))\n",
      "File \u001b[1;32me:\\dev\\tinygrad\\tinygrad\\tensor.py:94\u001b[0m, in \u001b[0;36mTensor.assign\u001b[1;34m(self, x)\u001b[0m\n\u001b[0;32m     92\u001b[0m \u001b[39mif\u001b[39;00m \u001b[39mnot\u001b[39;00m \u001b[39misinstance\u001b[39m(x, Tensor): x \u001b[39m=\u001b[39m Tensor(x)\n\u001b[0;32m     93\u001b[0m \u001b[39massert\u001b[39;00m \u001b[39mself\u001b[39m\u001b[39m.\u001b[39mshape \u001b[39m==\u001b[39m x\u001b[39m.\u001b[39mshape, \u001b[39mf\u001b[39m\u001b[39m\"\u001b[39m\u001b[39massign shape mismatch \u001b[39m\u001b[39m{\u001b[39;00m\u001b[39mself\u001b[39m\u001b[39m.\u001b[39mshape\u001b[39m}\u001b[39;00m\u001b[39m != \u001b[39m\u001b[39m{\u001b[39;00mx\u001b[39m.\u001b[39mshape\u001b[39m}\u001b[39;00m\u001b[39m\"\u001b[39m\n\u001b[1;32m---> 94\u001b[0m \u001b[39massert\u001b[39;00m \u001b[39mnot\u001b[39;00m x\u001b[39m.\u001b[39mrequires_grad  \u001b[39m# self requires_grad is okay?\u001b[39;00m\n\u001b[0;32m     95\u001b[0m \u001b[39mif\u001b[39;00m DEBUG \u001b[39m>\u001b[39m\u001b[39m=\u001b[39m \u001b[39m4\u001b[39m: \u001b[39mprint\u001b[39m(\u001b[39mf\u001b[39m\u001b[39m\"\u001b[39m\u001b[39massign \u001b[39m\u001b[39m{\u001b[39;00m\u001b[39mself\u001b[39m\u001b[39m.\u001b[39mlazydata\u001b[39m}\u001b[39;00m\u001b[39m <- \u001b[39m\u001b[39m{\u001b[39;00mx\u001b[39m.\u001b[39mlazydata\u001b[39m}\u001b[39;00m\u001b[39m\"\u001b[39m)\n\u001b[0;32m     96\u001b[0m \u001b[39mif\u001b[39;00m \u001b[39mself\u001b[39m\u001b[39m.\u001b[39mlazydata\u001b[39m.\u001b[39mrealized \u001b[39mis\u001b[39;00m \u001b[39mnot\u001b[39;00m \u001b[39mNone\u001b[39;00m \u001b[39mand\u001b[39;00m \u001b[39mnot\u001b[39;00m getenv(\u001b[39m\"\u001b[39m\u001b[39mDISALLOW_ASSIGN\u001b[39m\u001b[39m\"\u001b[39m): x\u001b[39m.\u001b[39mlazydata\u001b[39m.\u001b[39moutput_buffer \u001b[39m=\u001b[39m \u001b[39mself\u001b[39m\u001b[39m.\u001b[39mlazydata\u001b[39m.\u001b[39mrealized\n",
      "\u001b[1;31mAssertionError\u001b[0m: "
     ]
    }
   ],
   "source": [
    "# xenc = F.one_hot(xs, num_classes=27).float()\n",
    "x = xs.numpy()\n",
    "one_hot = np.zeros((x.shape[0], 27))\n",
    "one_hot[np.arange(x.shape[0]), x.astype('int32')] = 1\n",
    "xenc = Tensor(one_hot.astype('float32'), requires_grad=True)\n",
    "W = Tensor.uniform(27, 27, requires_grad=True)\n",
    "\n",
    "for k in range(100): \n",
    "  # forward pass \n",
    "  logits = xenc @ W\n",
    "  counts = logits.exp()\n",
    "  probs = counts / counts.sum(axis=1, keepdim=True)\n",
    "\n",
    "  zeros = np.zeros((probs.shape), dtype=np.float32)\n",
    "  zeros[range(x.shape[0]), ys.numpy().astype('int32')] = 1.0\n",
    "  correct_probs = probs.mul(Tensor(zeros)).sum(axis=1)\n",
    "  loss = -correct_probs.log().mean() + 0.01*(W**2).mean()\n",
    "\n",
    "  # backward pass \n",
    "  # W.grad = None \n",
    "  loss.backward()\n",
    "  print(loss.numpy())\n",
    "\n",
    "  # update \n",
    "  print(W.grad)\n",
    "  W += -30 * W.grad\n",
    "\n",
    "  # losses.append(loss.detach())\n",
    "  break\n",
    "\n",
    "# loss.item()\n"
   ]
  },
  {
   "cell_type": "code",
   "execution_count": 9,
   "metadata": {},
   "outputs": [
    {
     "data": {
      "text/plain": [
       "(3.5, 1.707825127659933)"
      ]
     },
     "execution_count": 9,
     "metadata": {},
     "output_type": "execute_result"
    }
   ],
   "source": [
    "import numpy as np\n",
    "import matplotlib.pyplot as plt\n",
    "\n",
    "d1 = np.arange(1, 7)\n",
    "d1.mean(), d1.std()"
   ]
  },
  {
   "cell_type": "code",
   "execution_count": 33,
   "metadata": {},
   "outputs": [
    {
     "data": {
      "text/plain": [
       "(3.5, 2.9166666666666665, 1.707825127659933)"
      ]
     },
     "execution_count": 33,
     "metadata": {},
     "output_type": "execute_result"
    }
   ],
   "source": [
    "# this is how to calculate the standard deviation\n",
    "d1_mean = d1.mean()\n",
    "d1_var = np.power(d1 - d1_mean, 2).mean()\n",
    "d1_std = np.sqrt(d1_var)\n",
    "d1_mean, d1_var, d1_std"
   ]
  },
  {
   "cell_type": "code",
   "execution_count": 13,
   "metadata": {},
   "outputs": [
    {
     "data": {
      "text/plain": [
       "array([1, 2, 3, 4, 5, 6])"
      ]
     },
     "execution_count": 13,
     "metadata": {},
     "output_type": "execute_result"
    }
   ],
   "source": [
    "d2 = np.arange(1, 7)\n",
    "d2"
   ]
  },
  {
   "cell_type": "code",
   "execution_count": 102,
   "metadata": {},
   "outputs": [
    {
     "data": {
      "text/plain": [
       "(array([1., 2., 3., 4., 5., 6., 5., 4., 3., 3.]),\n",
       " array([1. , 1.5, 2. , 2.5, 3. , 3.5, 4. , 4.5, 5. , 5.5, 6. ]),\n",
       " <BarContainer object of 10 artists>)"
      ]
     },
     "execution_count": 102,
     "metadata": {},
     "output_type": "execute_result"
    },
    {
     "data": {
      "image/png": "[encoded data removed]",
      "text/plain": [
       "<Figure size 432x288 with 1 Axes>"
      ]
     },
     "metadata": {
      "needs_background": "light"
     },
     "output_type": "display_data"
    }
   ],
   "source": [
    "\n",
    "values = np.concatenate([v + d2 for v in d1])/2\n",
    "plt.hist(values)"
   ]
  },
  {
   "cell_type": "code",
   "execution_count": 119,
   "metadata": {},
   "outputs": [
    {
     "data": {
      "text/plain": [
       "(3.5, 1.4583333333333333, 1.20761472884912)"
      ]
     },
     "execution_count": 119,
     "metadata": {},
     "output_type": "execute_result"
    }
   ],
   "source": [
    "values.mean(), values.var(), values.std()"
   ]
  },
  {
   "cell_type": "code",
   "execution_count": 150,
   "metadata": {},
   "outputs": [
    {
     "data": {
      "text/plain": [
       "<matplotlib.patches.StepPatch at 0x14ce94a45c8>"
      ]
     },
     "execution_count": 150,
     "metadata": {},
     "output_type": "execute_result"
    },
    {
     "data": {
      "image/png": "[encoded data removed]",
      "text/plain": [
       "<Figure size 432x288 with 1 Axes>"
      ]
     },
     "metadata": {
      "needs_background": "light"
     },
     "output_type": "display_data"
    }
   ],
   "source": [
    "counts, bins = np.histogram(values.tolist(), bins=np.arange(1, 7, 0.5))\n",
    "plt.stairs(counts, bins, fill=True)"
   ]
  }
 ],
 "metadata": {
  "kernelspec": {
   "display_name": "dev",
   "language": "python",
   "name": "python3"
  },
  "language_info": {
   "codemirror_mode": {
    "name": "ipython",
    "version": 3
   },
   "file_extension": ".py",
   "mimetype": "text/x-python",
   "name": "python",
   "nbconvert_exporter": "python",
   "pygments_lexer": "ipython3",
   "version": "3.7.13"
  },
  "orig_nbformat": 4
 },
 "nbformat": 4,
 "nbformat_minor": 2
}
