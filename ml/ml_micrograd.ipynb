{
 "cells": [
  {
   "cell_type": "code",
   "execution_count": 1,
   "metadata": {},
   "outputs": [
    {
     "name": "stdout",
     "output_type": "stream",
     "text": [
      "Populating the interactive namespace from numpy and matplotlib\n"
     ]
    }
   ],
   "source": [
    "%pylab inline\n",
    "import matplotlib as plt\n",
    "import numpy as np "
   ]
  },
  {
   "cell_type": "code",
   "execution_count": 12,
   "metadata": {},
   "outputs": [],
   "source": [
    "import math \n",
    "\n",
    "# --- micrograd ---\n",
    "\n",
    "class Value: \n",
    "\n",
    "  def __init__(self, data, _children=(), _op='', label=''):\n",
    "    self.data = data \n",
    "    self.grad = 0\n",
    "    self._backward = lambda: None\n",
    "    self._prev = set(_children)\n",
    "    self._op = _op\n",
    "    self.label = label\n",
    "\n",
    "  def __repr__(self):\n",
    "    return f'Value(data={self.data})'\n",
    "\n",
    "  def __add__(self, other):\n",
    "    other = other if isinstance(other, Value) else Value(other)\n",
    "    out =  Value(self.data + other.data, (self, other), '+') \n",
    "    \n",
    "    def _backward(): \n",
    "      self.grad += 1.0 * out.grad\n",
    "      other.grad += 1.0 * out.grad\n",
    "    out._backward = _backward\n",
    "\n",
    "    return out\n",
    "\n",
    "  def __mul__(self, other): \n",
    "    other = other if isinstance(other, Value) else Value(other)\n",
    "    out = Value(self.data * other.data, (self, other), '*')\n",
    "\n",
    "    def _backward(): \n",
    "      self.grad  += other.data * out.grad\n",
    "      other.grad += self.data * out.grad\n",
    "    out._backward = _backward\n",
    "\n",
    "    return out \n",
    "\n",
    "  def __pow__(self, other): \n",
    "    assert isinstance(other, (int, float)), \"only supporting int/float powers for now\"\n",
    "    out = Value(self.data**other, (self, ), f'**{other}')\n",
    "\n",
    "    def _backward(): \n",
    "      self.grad += other * (self.data**(other-1)) * out.grad\n",
    "    out._backward = _backward\n",
    "\n",
    "    return out\n",
    " \n",
    "  def __neg__(self): return -1 * self.data                 # -self\n",
    "  def __sub__(self, other): return self + (-other)         # self - other\n",
    "  def __radd__(self, other): return self + other           # other + self\n",
    "  def __rmul__(self, other): return self * other           # other * self\n",
    "  def __truediv__(self, other): return self.data*other**-1 # self / other\n",
    "  \n",
    "  def tanh(self): \n",
    "    x = self.data \n",
    "    t = (math.exp(2*x) -1) / (math.exp(2*x) + 1)\n",
    "    out = Value(t, (self, ), 'tanh')\n",
    "\n",
    "    def _backward(): \n",
    "      self.grad += (1-t**2) * out.grad\n",
    "    out._backward = _backward\n",
    "\n",
    "    return out\n",
    "\n",
    "  def exp(self): \n",
    "    x = self.data \n",
    "    out = Value(math.exp(x), (self, ), 'exp')\n",
    "\n",
    "    def _backward():\n",
    "      self.grad += out.data * out.grad\n",
    "    out._backward = _backward\n",
    "    \n",
    "    return out \n",
    "\n",
    "  def log(self):\n",
    "    x = self.data\n",
    "    out = Value(math.log(x), (self, ), 'log')\n",
    "\n",
    "    def _backward():\n",
    "      self.grad += (1/x) * out.grad\n",
    "    out._backward =_backward\n",
    "\n",
    "    return out\n",
    "\n",
    "  def backward(self):\n",
    "\n",
    "    visited = set()\n",
    "    topo = []\n",
    "    def build_topo(v): \n",
    "      if v not in visited: \n",
    "        visited.add(v)\n",
    "        for child in v._prev: \n",
    "          build_topo(child)\n",
    "        topo.append(v)\n",
    "    build_topo(self)\n",
    "\n",
    "    self.grad = 1.0        \n",
    "    for node in reversed(topo):\n",
    "      node._backward()\n",
    "\n",
    "a = Value(2.0,  label='a')\n",
    "b = Value(-3.0, label='b')\n",
    "c = Value(10.0, label='c')\n",
    "\n",
    "d = a*b + c; d.label='d'"
   ]
  },
  {
   "cell_type": "code",
   "execution_count": 13,
   "metadata": {},
   "outputs": [],
   "source": [
    "logits = [Value(2.0), Value(0.3)]\n",
    "\n",
    "counts = [logit.exp() for logit in logits]\n",
    "denominator = sum(counts) #Here I am getting the Typeerror\n",
    "out = [c / denominator for c in counts]\n"
   ]
  },
  {
   "cell_type": "code",
   "execution_count": 15,
   "metadata": {},
   "outputs": [
    {
     "name": "stdout",
     "output_type": "stream",
     "text": [
      "Value(data=0.8455347349164652)\n",
      "Value(data=0.1544652650835347)\n"
     ]
    }
   ],
   "source": [
    "\n",
    "for o in out:\n",
    "  print(o)\n",
    "\n"
   ]
  },
  {
   "cell_type": "code",
   "execution_count": 2,
   "metadata": {},
   "outputs": [],
   "source": [
    "from graphviz import Digraph\n",
    "\n",
    "def trace(root):\n",
    "  # builds a set of all nodes and edges in a graph\n",
    "  nodes, edges = set(), set()\n",
    "  def build(v):\n",
    "    if v not in nodes:\n",
    "      nodes.add(v)\n",
    "      for child in v._prev:\n",
    "        edges.add((child, v))\n",
    "        build(child)\n",
    "  build(root)\n",
    "  return nodes, edges\n",
    "\n",
    "def draw_dot(root):\n",
    "  dot = Digraph(format='svg', graph_attr={'rankdir': 'LR'}) # LR = left to right\n",
    "  \n",
    "  nodes, edges = trace(root)\n",
    "  for n in nodes:\n",
    "    uid = str(id(n))\n",
    "    # for any value in the graph, create a rectangular ('record') node for it\n",
    "    dot.node(name = uid, label = \"{ %s | data %.4f | grad %.4f }\" % (n.label, n.data, n.grad), shape='record')\n",
    "    if n._op:\n",
    "      # if this value is a result of some operation, create an op node for it\n",
    "      dot.node(name = uid + n._op, label = n._op)\n",
    "      # and connect this node to it\n",
    "      dot.edge(uid + n._op, uid)\n",
    "\n",
    "  for n1, n2 in edges:\n",
    "    # connect n1 to the op node of n2\n",
    "    dot.edge(str(id(n1)), str(id(n2)) + n2._op)\n",
    "\n",
    "  return dot"
   ]
  },
  {
   "cell_type": "code",
   "execution_count": 29,
   "metadata": {},
   "outputs": [
    {
     "data": {
      "image/svg+xml": "<?xml version=\"1.0\" encoding=\"UTF-8\" standalone=\"no\"?>\n<!DOCTYPE svg PUBLIC \"-//W3C//DTD SVG 1.1//EN\"\n \"http://www.w3.org/Graphics/SVG/1.1/DTD/svg11.dtd\">\n<!-- Generated by graphviz version 6.0.2 (20221011.1828)\n -->\n<!-- Pages: 1 -->\n<svg width=\"1145pt\" height=\"128pt\"\n viewBox=\"0.00 0.00 1145.00 128.00\" xmlns=\"http://www.w3.org/2000/svg\" xmlns:xlink=\"http://www.w3.org/1999/xlink\">\n<g id=\"graph0\" class=\"graph\" transform=\"scale(1 1) rotate(0) translate(4 124)\">\n<polygon fill=\"white\" stroke=\"none\" points=\"-4,4 -4,-124 1141,-124 1141,4 -4,4\"/>\n<!-- 2705811408392 -->\n<g id=\"node1\" class=\"node\">\n<title>2705811408392</title>\n<polygon fill=\"none\" stroke=\"black\" points=\"0,-83.5 0,-119.5 193,-119.5 193,-83.5 0,-83.5\"/>\n<text text-anchor=\"middle\" x=\"12\" y=\"-97.8\" font-family=\"Times New Roman,serif\" font-size=\"14.00\">b</text>\n<polyline fill=\"none\" stroke=\"black\" points=\"24,-83.5 24,-119.5\"/>\n<text text-anchor=\"middle\" x=\"67\" y=\"-97.8\" font-family=\"Times New Roman,serif\" font-size=\"14.00\">data &#45;3.0000</text>\n<polyline fill=\"none\" stroke=\"black\" points=\"110,-83.5 110,-119.5\"/>\n<text text-anchor=\"middle\" x=\"151.5\" y=\"-97.8\" font-family=\"Times New Roman,serif\" font-size=\"14.00\">grad 0.5000</text>\n</g>\n<!-- 2705812213512* -->\n<g id=\"node7\" class=\"node\">\n<title>2705812213512*</title>\n<ellipse fill=\"none\" stroke=\"black\" cx=\"256\" cy=\"-73.5\" rx=\"27\" ry=\"18\"/>\n<text text-anchor=\"middle\" x=\"256\" y=\"-69.8\" font-family=\"Times New Roman,serif\" font-size=\"14.00\">*</text>\n</g>\n<!-- 2705811408392&#45;&gt;2705812213512* -->\n<g id=\"edge6\" class=\"edge\">\n<title>2705811408392&#45;&gt;2705812213512*</title>\n<path fill=\"none\" stroke=\"black\" d=\"M193.2,-84.49C202.52,-82.83 211.5,-81.23 219.6,-79.79\"/>\n<polygon fill=\"black\" stroke=\"black\" points=\"220.45,-83.2 229.68,-78 219.23,-76.31 220.45,-83.2\"/>\n</g>\n<!-- 2705811410120 -->\n<g id=\"node2\" class=\"node\">\n<title>2705811410120</title>\n<polygon fill=\"none\" stroke=\"black\" points=\"1,-28.5 1,-64.5 192,-64.5 192,-28.5 1,-28.5\"/>\n<text text-anchor=\"middle\" x=\"12.5\" y=\"-42.8\" font-family=\"Times New Roman,serif\" font-size=\"14.00\">a</text>\n<polyline fill=\"none\" stroke=\"black\" points=\"24,-28.5 24,-64.5\"/>\n<text text-anchor=\"middle\" x=\"64.5\" y=\"-42.8\" font-family=\"Times New Roman,serif\" font-size=\"14.00\">data 2.0000</text>\n<polyline fill=\"none\" stroke=\"black\" points=\"105,-28.5 105,-64.5\"/>\n<text text-anchor=\"middle\" x=\"148.5\" y=\"-42.8\" font-family=\"Times New Roman,serif\" font-size=\"14.00\">grad &#45;0.7500</text>\n</g>\n<!-- 2705811410120&#45;&gt;2705812213512* -->\n<g id=\"edge7\" class=\"edge\">\n<title>2705811410120&#45;&gt;2705812213512*</title>\n<path fill=\"none\" stroke=\"black\" d=\"M192.3,-62.75C201.92,-64.4 211.2,-65.99 219.55,-67.42\"/>\n<polygon fill=\"black\" stroke=\"black\" points=\"219.12,-70.9 229.57,-69.14 220.31,-64 219.12,-70.9\"/>\n</g>\n<!-- 2705810853576 -->\n<g id=\"node3\" class=\"node\">\n<title>2705810853576</title>\n<polygon fill=\"none\" stroke=\"black\" points=\"319,-0.5 319,-36.5 513,-36.5 513,-0.5 319,-0.5\"/>\n<text text-anchor=\"middle\" x=\"330.5\" y=\"-14.8\" font-family=\"Times New Roman,serif\" font-size=\"14.00\">c</text>\n<polyline fill=\"none\" stroke=\"black\" points=\"342,-0.5 342,-36.5\"/>\n<text text-anchor=\"middle\" x=\"386\" y=\"-14.8\" font-family=\"Times New Roman,serif\" font-size=\"14.00\">data 10.0000</text>\n<polyline fill=\"none\" stroke=\"black\" points=\"430,-0.5 430,-36.5\"/>\n<text text-anchor=\"middle\" x=\"471.5\" y=\"-14.8\" font-family=\"Times New Roman,serif\" font-size=\"14.00\">grad 0.2500</text>\n</g>\n<!-- 2705812213640+ -->\n<g id=\"node9\" class=\"node\">\n<title>2705812213640+</title>\n<ellipse fill=\"none\" stroke=\"black\" cx=\"576\" cy=\"-45.5\" rx=\"27\" ry=\"18\"/>\n<text text-anchor=\"middle\" x=\"576\" y=\"-41.8\" font-family=\"Times New Roman,serif\" font-size=\"14.00\">+</text>\n</g>\n<!-- 2705810853576&#45;&gt;2705812213640+ -->\n<g id=\"edge5\" class=\"edge\">\n<title>2705810853576&#45;&gt;2705812213640+</title>\n<path fill=\"none\" stroke=\"black\" d=\"M513.01,-34.91C522.35,-36.5 531.37,-38.04 539.49,-39.43\"/>\n<polygon fill=\"black\" stroke=\"black\" points=\"539.16,-42.93 549.6,-41.16 540.34,-36.03 539.16,-42.93\"/>\n</g>\n<!-- 2705811881736 -->\n<g id=\"node4\" class=\"node\">\n<title>2705811881736</title>\n<polygon fill=\"none\" stroke=\"black\" points=\"953,-27.5 953,-63.5 1137,-63.5 1137,-27.5 953,-27.5\"/>\n<text text-anchor=\"middle\" x=\"963\" y=\"-41.8\" font-family=\"Times New Roman,serif\" font-size=\"14.00\"> </text>\n<polyline fill=\"none\" stroke=\"black\" points=\"973,-27.5 973,-63.5\"/>\n<text text-anchor=\"middle\" x=\"1013.5\" y=\"-41.8\" font-family=\"Times New Roman,serif\" font-size=\"14.00\">data 1.3863</text>\n<polyline fill=\"none\" stroke=\"black\" points=\"1054,-27.5 1054,-63.5\"/>\n<text text-anchor=\"middle\" x=\"1095.5\" y=\"-41.8\" font-family=\"Times New Roman,serif\" font-size=\"14.00\">grad 1.0000</text>\n</g>\n<!-- 2705811881736log -->\n<g id=\"node5\" class=\"node\">\n<title>2705811881736log</title>\n<ellipse fill=\"none\" stroke=\"black\" cx=\"890\" cy=\"-45.5\" rx=\"27\" ry=\"18\"/>\n<text text-anchor=\"middle\" x=\"890\" y=\"-41.8\" font-family=\"Times New Roman,serif\" font-size=\"14.00\">log</text>\n</g>\n<!-- 2705811881736log&#45;&gt;2705811881736 -->\n<g id=\"edge1\" class=\"edge\">\n<title>2705811881736log&#45;&gt;2705811881736</title>\n<path fill=\"none\" stroke=\"black\" d=\"M917.3,-45.5C924.83,-45.5 933.52,-45.5 942.75,-45.5\"/>\n<polygon fill=\"black\" stroke=\"black\" points=\"942.95,-49 952.95,-45.5 942.95,-42 942.95,-49\"/>\n</g>\n<!-- 2705812213512 -->\n<g id=\"node6\" class=\"node\">\n<title>2705812213512</title>\n<polygon fill=\"none\" stroke=\"black\" points=\"321.5,-55.5 321.5,-91.5 510.5,-91.5 510.5,-55.5 321.5,-55.5\"/>\n<text text-anchor=\"middle\" x=\"331.5\" y=\"-69.8\" font-family=\"Times New Roman,serif\" font-size=\"14.00\"> </text>\n<polyline fill=\"none\" stroke=\"black\" points=\"341.5,-55.5 341.5,-91.5\"/>\n<text text-anchor=\"middle\" x=\"384.5\" y=\"-69.8\" font-family=\"Times New Roman,serif\" font-size=\"14.00\">data &#45;6.0000</text>\n<polyline fill=\"none\" stroke=\"black\" points=\"427.5,-55.5 427.5,-91.5\"/>\n<text text-anchor=\"middle\" x=\"469\" y=\"-69.8\" font-family=\"Times New Roman,serif\" font-size=\"14.00\">grad 0.2500</text>\n</g>\n<!-- 2705812213512&#45;&gt;2705812213640+ -->\n<g id=\"edge8\" class=\"edge\">\n<title>2705812213512&#45;&gt;2705812213640+</title>\n<path fill=\"none\" stroke=\"black\" d=\"M510.74,-56.89C521.05,-55.06 531.02,-53.29 539.9,-51.72\"/>\n<polygon fill=\"black\" stroke=\"black\" points=\"540.55,-55.16 549.79,-49.97 539.33,-48.27 540.55,-55.16\"/>\n</g>\n<!-- 2705812213512*&#45;&gt;2705812213512 -->\n<g id=\"edge2\" class=\"edge\">\n<title>2705812213512*&#45;&gt;2705812213512</title>\n<path fill=\"none\" stroke=\"black\" d=\"M283.09,-73.5C291.33,-73.5 300.98,-73.5 311.26,-73.5\"/>\n<polygon fill=\"black\" stroke=\"black\" points=\"311.28,-77 321.28,-73.5 311.28,-70 311.28,-77\"/>\n</g>\n<!-- 2705812213640 -->\n<g id=\"node8\" class=\"node\">\n<title>2705812213640</title>\n<polygon fill=\"none\" stroke=\"black\" points=\"639,-27.5 639,-63.5 827,-63.5 827,-27.5 639,-27.5\"/>\n<text text-anchor=\"middle\" x=\"651\" y=\"-41.8\" font-family=\"Times New Roman,serif\" font-size=\"14.00\">d</text>\n<polyline fill=\"none\" stroke=\"black\" points=\"663,-27.5 663,-63.5\"/>\n<text text-anchor=\"middle\" x=\"703.5\" y=\"-41.8\" font-family=\"Times New Roman,serif\" font-size=\"14.00\">data 4.0000</text>\n<polyline fill=\"none\" stroke=\"black\" points=\"744,-27.5 744,-63.5\"/>\n<text text-anchor=\"middle\" x=\"785.5\" y=\"-41.8\" font-family=\"Times New Roman,serif\" font-size=\"14.00\">grad 0.2500</text>\n</g>\n<!-- 2705812213640&#45;&gt;2705811881736log -->\n<g id=\"edge4\" class=\"edge\">\n<title>2705812213640&#45;&gt;2705811881736log</title>\n<path fill=\"none\" stroke=\"black\" d=\"M827.29,-45.5C836.2,-45.5 844.81,-45.5 852.64,-45.5\"/>\n<polygon fill=\"black\" stroke=\"black\" points=\"852.77,-49 862.77,-45.5 852.77,-42 852.77,-49\"/>\n</g>\n<!-- 2705812213640+&#45;&gt;2705812213640 -->\n<g id=\"edge3\" class=\"edge\">\n<title>2705812213640+&#45;&gt;2705812213640</title>\n<path fill=\"none\" stroke=\"black\" d=\"M603.29,-45.5C610.78,-45.5 619.42,-45.5 628.6,-45.5\"/>\n<polygon fill=\"black\" stroke=\"black\" points=\"628.76,-49 638.76,-45.5 628.76,-42 628.76,-49\"/>\n</g>\n</g>\n</svg>\n",
      "text/plain": [
       "<graphviz.graphs.Digraph at 0x275feef2908>"
      ]
     },
     "execution_count": 29,
     "metadata": {},
     "output_type": "execute_result"
    }
   ],
   "source": [
    "# make sure that graphviz is downloaded on your machine\n",
    "\n",
    "import os\n",
    "os.environ[\"PATH\"] += os.pathsep + 'C:\\\\Users\\\\bkand\\\\Downloads\\\\windows_10_msbuild_Release_graphviz-6.0.2-win32\\\\Graphviz\\\\bin' # graphiz exe path\n",
    "\n",
    "draw_dot(result)"
   ]
  },
  {
   "cell_type": "code",
   "execution_count": 42,
   "metadata": {},
   "outputs": [
    {
     "name": "stdout",
     "output_type": "stream",
     "text": [
      "(y)\n",
      "(x)\n",
      "(a), {(y), (x)}\n",
      "(), {(a), {(y), (x)}}\n",
      "(), {(a), {(y), (x)}, (), {(a), {(y), (x)}}}\n",
      "(b), {(a), {(y), (x)}, (), {(a), {(y), (x)}, (), {(a), {(y), (x)}}}}\n"
     ]
    }
   ],
   "source": [
    "x = Value(2.0, label='x')\n",
    "y = Value(4.0, label='y')\n",
    "a = x + y; a.label='a'\n",
    "b = a * a * a * a; b.label='b'\n",
    "draw_dot(b)\n",
    "\n",
    "visited = set()\n",
    "topo = []\n",
    "def build_topo(v): \n",
    "  if v not in visited: \n",
    "    visited.add(v)\n",
    "    for child in v._prev: \n",
    "      build_topo(child)\n",
    "    topo.append(v)\n",
    "build_topo(b)\n",
    "\n",
    "for n in topo: \n",
    "  print(n)\n",
    "\n",
    "\n"
   ]
  },
  {
   "cell_type": "code",
   "execution_count": 5,
   "metadata": {},
   "outputs": [],
   "source": [
    "# inputs x1,x2\n",
    "x1 = Value(2.0, label='x1')\n",
    "x2 = Value(0.0, label='x2')\n",
    "# weights w1,w2\n",
    "w1 = Value(-3.0, label='w1')\n",
    "w2 = Value(1.0, label='w2')\n",
    "# bias of the neuron\n",
    "b = Value(6.8813735870195432, label='b')\n",
    "# x1*w1 + x2*w2 + b\n",
    "x1w1 = x1*w1; x1w1.label = 'x1*w1'\n",
    "x2w2 = x2*w2; x2w2.label = 'x2*w2'\n",
    "x1w1x2w2 = x1w1 + x2w2; x1w1x2w2.label = 'x1*w1 + x2*w2'\n",
    "n = x1w1x2w2 + b; n.label = 'n'\n",
    "o = n.tanh(); o.label = 'o'\n"
   ]
  },
  {
   "cell_type": "code",
   "execution_count": 6,
   "metadata": {},
   "outputs": [
    {
     "data": {
      "image/svg+xml": "<?xml version=\"1.0\" encoding=\"UTF-8\" standalone=\"no\"?>\n<!DOCTYPE svg PUBLIC \"-//W3C//DTD SVG 1.1//EN\"\n \"http://www.w3.org/Graphics/SVG/1.1/DTD/svg11.dtd\">\n<!-- Generated by graphviz version 6.0.2 (20221011.1828)\n -->\n<!-- Pages: 1 -->\n<svg width=\"1586pt\" height=\"210pt\"\n viewBox=\"0.00 0.00 1586.00 210.00\" xmlns=\"http://www.w3.org/2000/svg\" xmlns:xlink=\"http://www.w3.org/1999/xlink\">\n<g id=\"graph0\" class=\"graph\" transform=\"scale(1 1) rotate(0) translate(4 206)\">\n<polygon fill=\"white\" stroke=\"none\" points=\"-4,4 -4,-206 1582,-206 1582,4 -4,4\"/>\n<!-- 2231860588040 -->\n<g id=\"node1\" class=\"node\">\n<title>2231860588040</title>\n<polygon fill=\"none\" stroke=\"black\" points=\"1077,-54.5 1077,-90.5 1264,-90.5 1264,-54.5 1077,-54.5\"/>\n<text text-anchor=\"middle\" x=\"1088.5\" y=\"-68.8\" font-family=\"Times New Roman,serif\" font-size=\"14.00\">n</text>\n<polyline fill=\"none\" stroke=\"black\" points=\"1100,-54.5 1100,-90.5\"/>\n<text text-anchor=\"middle\" x=\"1140.5\" y=\"-68.8\" font-family=\"Times New Roman,serif\" font-size=\"14.00\">data 0.8814</text>\n<polyline fill=\"none\" stroke=\"black\" points=\"1181,-54.5 1181,-90.5\"/>\n<text text-anchor=\"middle\" x=\"1222.5\" y=\"-68.8\" font-family=\"Times New Roman,serif\" font-size=\"14.00\">grad 0.0000</text>\n</g>\n<!-- 2231859672264tanh -->\n<g id=\"node11\" class=\"node\">\n<title>2231859672264tanh</title>\n<ellipse fill=\"none\" stroke=\"black\" cx=\"1327\" cy=\"-72.5\" rx=\"27\" ry=\"18\"/>\n<text text-anchor=\"middle\" x=\"1327\" y=\"-68.8\" font-family=\"Times New Roman,serif\" font-size=\"14.00\">tanh</text>\n</g>\n<!-- 2231860588040&#45;&gt;2231859672264tanh -->\n<g id=\"edge9\" class=\"edge\">\n<title>2231860588040&#45;&gt;2231859672264tanh</title>\n<path fill=\"none\" stroke=\"black\" d=\"M1264.05,-72.5C1273.06,-72.5 1281.79,-72.5 1289.7,-72.5\"/>\n<polygon fill=\"black\" stroke=\"black\" points=\"1289.95,-76 1299.95,-72.5 1289.95,-69 1289.95,-76\"/>\n</g>\n<!-- 2231860588040+ -->\n<g id=\"node2\" class=\"node\">\n<title>2231860588040+</title>\n<ellipse fill=\"none\" stroke=\"black\" cx=\"1014\" cy=\"-72.5\" rx=\"27\" ry=\"18\"/>\n<text text-anchor=\"middle\" x=\"1014\" y=\"-68.8\" font-family=\"Times New Roman,serif\" font-size=\"14.00\">+</text>\n</g>\n<!-- 2231860588040+&#45;&gt;2231860588040 -->\n<g id=\"edge1\" class=\"edge\">\n<title>2231860588040+&#45;&gt;2231860588040</title>\n<path fill=\"none\" stroke=\"black\" d=\"M1041.21,-72.5C1048.73,-72.5 1057.43,-72.5 1066.67,-72.5\"/>\n<polygon fill=\"black\" stroke=\"black\" points=\"1066.89,-76 1076.89,-72.5 1066.89,-69 1066.89,-76\"/>\n</g>\n<!-- 2231861066760 -->\n<g id=\"node3\" class=\"node\">\n<title>2231861066760</title>\n<polygon fill=\"none\" stroke=\"black\" points=\"0,-165.5 0,-201.5 202,-201.5 202,-165.5 0,-165.5\"/>\n<text text-anchor=\"middle\" x=\"16.5\" y=\"-179.8\" font-family=\"Times New Roman,serif\" font-size=\"14.00\">w1</text>\n<polyline fill=\"none\" stroke=\"black\" points=\"33,-165.5 33,-201.5\"/>\n<text text-anchor=\"middle\" x=\"76\" y=\"-179.8\" font-family=\"Times New Roman,serif\" font-size=\"14.00\">data &#45;3.0000</text>\n<polyline fill=\"none\" stroke=\"black\" points=\"119,-165.5 119,-201.5\"/>\n<text text-anchor=\"middle\" x=\"160.5\" y=\"-179.8\" font-family=\"Times New Roman,serif\" font-size=\"14.00\">grad 0.0000</text>\n</g>\n<!-- 2231670176904* -->\n<g id=\"node6\" class=\"node\">\n<title>2231670176904*</title>\n<ellipse fill=\"none\" stroke=\"black\" cx=\"265\" cy=\"-128.5\" rx=\"27\" ry=\"18\"/>\n<text text-anchor=\"middle\" x=\"265\" y=\"-124.8\" font-family=\"Times New Roman,serif\" font-size=\"14.00\">*</text>\n</g>\n<!-- 2231861066760&#45;&gt;2231670176904* -->\n<g id=\"edge13\" class=\"edge\">\n<title>2231861066760&#45;&gt;2231670176904*</title>\n<path fill=\"none\" stroke=\"black\" d=\"M174.26,-165.48C183.66,-162.7 193.11,-159.68 202,-156.5 212.53,-152.73 223.76,-147.91 233.72,-143.34\"/>\n<polygon fill=\"black\" stroke=\"black\" points=\"235.26,-146.49 242.83,-139.08 232.29,-140.15 235.26,-146.49\"/>\n</g>\n<!-- 2231861066824 -->\n<g id=\"node4\" class=\"node\">\n<title>2231861066824</title>\n<polygon fill=\"none\" stroke=\"black\" points=\"4,-110.5 4,-146.5 198,-146.5 198,-110.5 4,-110.5\"/>\n<text text-anchor=\"middle\" x=\"19\" y=\"-124.8\" font-family=\"Times New Roman,serif\" font-size=\"14.00\">x1</text>\n<polyline fill=\"none\" stroke=\"black\" points=\"34,-110.5 34,-146.5\"/>\n<text text-anchor=\"middle\" x=\"74.5\" y=\"-124.8\" font-family=\"Times New Roman,serif\" font-size=\"14.00\">data 2.0000</text>\n<polyline fill=\"none\" stroke=\"black\" points=\"115,-110.5 115,-146.5\"/>\n<text text-anchor=\"middle\" x=\"156.5\" y=\"-124.8\" font-family=\"Times New Roman,serif\" font-size=\"14.00\">grad 0.0000</text>\n</g>\n<!-- 2231861066824&#45;&gt;2231670176904* -->\n<g id=\"edge8\" class=\"edge\">\n<title>2231861066824&#45;&gt;2231670176904*</title>\n<path fill=\"none\" stroke=\"black\" d=\"M198.11,-128.5C208.59,-128.5 218.72,-128.5 227.76,-128.5\"/>\n<polygon fill=\"black\" stroke=\"black\" points=\"227.84,-132 237.84,-128.5 227.84,-125 227.84,-132\"/>\n</g>\n<!-- 2231670176904 -->\n<g id=\"node5\" class=\"node\">\n<title>2231670176904</title>\n<polygon fill=\"none\" stroke=\"black\" points=\"328,-110.5 328,-146.5 550,-146.5 550,-110.5 328,-110.5\"/>\n<text text-anchor=\"middle\" x=\"354.5\" y=\"-124.8\" font-family=\"Times New Roman,serif\" font-size=\"14.00\">x1*w1</text>\n<polyline fill=\"none\" stroke=\"black\" points=\"381,-110.5 381,-146.5\"/>\n<text text-anchor=\"middle\" x=\"424\" y=\"-124.8\" font-family=\"Times New Roman,serif\" font-size=\"14.00\">data &#45;6.0000</text>\n<polyline fill=\"none\" stroke=\"black\" points=\"467,-110.5 467,-146.5\"/>\n<text text-anchor=\"middle\" x=\"508.5\" y=\"-124.8\" font-family=\"Times New Roman,serif\" font-size=\"14.00\">grad 0.0000</text>\n</g>\n<!-- 2231861257992+ -->\n<g id=\"node13\" class=\"node\">\n<title>2231861257992+</title>\n<ellipse fill=\"none\" stroke=\"black\" cx=\"613\" cy=\"-100.5\" rx=\"27\" ry=\"18\"/>\n<text text-anchor=\"middle\" x=\"613\" y=\"-96.8\" font-family=\"Times New Roman,serif\" font-size=\"14.00\">+</text>\n</g>\n<!-- 2231670176904&#45;&gt;2231861257992+ -->\n<g id=\"edge14\" class=\"edge\">\n<title>2231670176904&#45;&gt;2231861257992+</title>\n<path fill=\"none\" stroke=\"black\" d=\"M550.39,-110.53C559.67,-109.02 568.54,-107.58 576.51,-106.28\"/>\n<polygon fill=\"black\" stroke=\"black\" points=\"577.12,-109.72 586.43,-104.66 575.99,-102.82 577.12,-109.72\"/>\n</g>\n<!-- 2231670176904*&#45;&gt;2231670176904 -->\n<g id=\"edge2\" class=\"edge\">\n<title>2231670176904*&#45;&gt;2231670176904</title>\n<path fill=\"none\" stroke=\"black\" d=\"M292.12,-128.5C299.66,-128.5 308.41,-128.5 317.81,-128.5\"/>\n<polygon fill=\"black\" stroke=\"black\" points=\"317.82,-132 327.81,-128.5 317.81,-125 317.82,-132\"/>\n</g>\n<!-- 2231861259400 -->\n<g id=\"node7\" class=\"node\">\n<title>2231861259400</title>\n<polygon fill=\"none\" stroke=\"black\" points=\"330.5,-55.5 330.5,-91.5 547.5,-91.5 547.5,-55.5 330.5,-55.5\"/>\n<text text-anchor=\"middle\" x=\"357\" y=\"-69.8\" font-family=\"Times New Roman,serif\" font-size=\"14.00\">x2*w2</text>\n<polyline fill=\"none\" stroke=\"black\" points=\"383.5,-55.5 383.5,-91.5\"/>\n<text text-anchor=\"middle\" x=\"424\" y=\"-69.8\" font-family=\"Times New Roman,serif\" font-size=\"14.00\">data 0.0000</text>\n<polyline fill=\"none\" stroke=\"black\" points=\"464.5,-55.5 464.5,-91.5\"/>\n<text text-anchor=\"middle\" x=\"506\" y=\"-69.8\" font-family=\"Times New Roman,serif\" font-size=\"14.00\">grad 0.0000</text>\n</g>\n<!-- 2231861259400&#45;&gt;2231861257992+ -->\n<g id=\"edge7\" class=\"edge\">\n<title>2231861259400&#45;&gt;2231861257992+</title>\n<path fill=\"none\" stroke=\"black\" d=\"M547.95,-90.45C558.13,-92.04 567.86,-93.57 576.53,-94.93\"/>\n<polygon fill=\"black\" stroke=\"black\" points=\"576.12,-98.41 586.54,-96.5 577.2,-91.49 576.12,-98.41\"/>\n</g>\n<!-- 2231861259400* -->\n<g id=\"node8\" class=\"node\">\n<title>2231861259400*</title>\n<ellipse fill=\"none\" stroke=\"black\" cx=\"265\" cy=\"-73.5\" rx=\"27\" ry=\"18\"/>\n<text text-anchor=\"middle\" x=\"265\" y=\"-69.8\" font-family=\"Times New Roman,serif\" font-size=\"14.00\">*</text>\n</g>\n<!-- 2231861259400*&#45;&gt;2231861259400 -->\n<g id=\"edge3\" class=\"edge\">\n<title>2231861259400*&#45;&gt;2231861259400</title>\n<path fill=\"none\" stroke=\"black\" d=\"M292.12,-73.5C300.31,-73.5 309.94,-73.5 320.28,-73.5\"/>\n<polygon fill=\"black\" stroke=\"black\" points=\"320.39,-77 330.39,-73.5 320.39,-70 320.39,-77\"/>\n</g>\n<!-- 2231861065864 -->\n<g id=\"node9\" class=\"node\">\n<title>2231861065864</title>\n<polygon fill=\"none\" stroke=\"black\" points=\"4,-55.5 4,-91.5 198,-91.5 198,-55.5 4,-55.5\"/>\n<text text-anchor=\"middle\" x=\"19\" y=\"-69.8\" font-family=\"Times New Roman,serif\" font-size=\"14.00\">x2</text>\n<polyline fill=\"none\" stroke=\"black\" points=\"34,-55.5 34,-91.5\"/>\n<text text-anchor=\"middle\" x=\"74.5\" y=\"-69.8\" font-family=\"Times New Roman,serif\" font-size=\"14.00\">data 0.0000</text>\n<polyline fill=\"none\" stroke=\"black\" points=\"115,-55.5 115,-91.5\"/>\n<text text-anchor=\"middle\" x=\"156.5\" y=\"-69.8\" font-family=\"Times New Roman,serif\" font-size=\"14.00\">grad 0.0000</text>\n</g>\n<!-- 2231861065864&#45;&gt;2231861259400* -->\n<g id=\"edge11\" class=\"edge\">\n<title>2231861065864&#45;&gt;2231861259400*</title>\n<path fill=\"none\" stroke=\"black\" d=\"M198.11,-73.5C208.59,-73.5 218.72,-73.5 227.76,-73.5\"/>\n<polygon fill=\"black\" stroke=\"black\" points=\"227.84,-77 237.84,-73.5 227.84,-70 227.84,-77\"/>\n</g>\n<!-- 2231859672264 -->\n<g id=\"node10\" class=\"node\">\n<title>2231859672264</title>\n<polygon fill=\"none\" stroke=\"black\" points=\"1390,-54.5 1390,-90.5 1578,-90.5 1578,-54.5 1390,-54.5\"/>\n<text text-anchor=\"middle\" x=\"1402\" y=\"-68.8\" font-family=\"Times New Roman,serif\" font-size=\"14.00\">o</text>\n<polyline fill=\"none\" stroke=\"black\" points=\"1414,-54.5 1414,-90.5\"/>\n<text text-anchor=\"middle\" x=\"1454.5\" y=\"-68.8\" font-family=\"Times New Roman,serif\" font-size=\"14.00\">data 0.7071</text>\n<polyline fill=\"none\" stroke=\"black\" points=\"1495,-54.5 1495,-90.5\"/>\n<text text-anchor=\"middle\" x=\"1536.5\" y=\"-68.8\" font-family=\"Times New Roman,serif\" font-size=\"14.00\">grad 0.0000</text>\n</g>\n<!-- 2231859672264tanh&#45;&gt;2231859672264 -->\n<g id=\"edge4\" class=\"edge\">\n<title>2231859672264tanh&#45;&gt;2231859672264</title>\n<path fill=\"none\" stroke=\"black\" d=\"M1354.29,-72.5C1361.78,-72.5 1370.42,-72.5 1379.6,-72.5\"/>\n<polygon fill=\"black\" stroke=\"black\" points=\"1379.76,-76 1389.76,-72.5 1379.76,-69 1379.76,-76\"/>\n</g>\n<!-- 2231861257992 -->\n<g id=\"node12\" class=\"node\">\n<title>2231861257992</title>\n<polygon fill=\"none\" stroke=\"black\" points=\"676,-82.5 676,-118.5 951,-118.5 951,-82.5 676,-82.5\"/>\n<text text-anchor=\"middle\" x=\"729\" y=\"-96.8\" font-family=\"Times New Roman,serif\" font-size=\"14.00\">x1*w1 + x2*w2</text>\n<polyline fill=\"none\" stroke=\"black\" points=\"782,-82.5 782,-118.5\"/>\n<text text-anchor=\"middle\" x=\"825\" y=\"-96.8\" font-family=\"Times New Roman,serif\" font-size=\"14.00\">data &#45;6.0000</text>\n<polyline fill=\"none\" stroke=\"black\" points=\"868,-82.5 868,-118.5\"/>\n<text text-anchor=\"middle\" x=\"909.5\" y=\"-96.8\" font-family=\"Times New Roman,serif\" font-size=\"14.00\">grad 0.0000</text>\n</g>\n<!-- 2231861257992&#45;&gt;2231860588040+ -->\n<g id=\"edge10\" class=\"edge\">\n<title>2231861257992&#45;&gt;2231860588040+</title>\n<path fill=\"none\" stroke=\"black\" d=\"M942.18,-82.49C954.8,-80.71 966.75,-79.02 977.12,-77.56\"/>\n<polygon fill=\"black\" stroke=\"black\" points=\"977.9,-80.99 987.31,-76.12 976.92,-74.05 977.9,-80.99\"/>\n</g>\n<!-- 2231861257992+&#45;&gt;2231861257992 -->\n<g id=\"edge5\" class=\"edge\">\n<title>2231861257992+&#45;&gt;2231861257992</title>\n<path fill=\"none\" stroke=\"black\" d=\"M640.36,-100.5C647.8,-100.5 656.45,-100.5 665.84,-100.5\"/>\n<polygon fill=\"black\" stroke=\"black\" points=\"665.88,-104 675.88,-100.5 665.88,-97 665.88,-104\"/>\n</g>\n<!-- 2231857821448 -->\n<g id=\"node14\" class=\"node\">\n<title>2231857821448</title>\n<polygon fill=\"none\" stroke=\"black\" points=\"719.5,-27.5 719.5,-63.5 907.5,-63.5 907.5,-27.5 719.5,-27.5\"/>\n<text text-anchor=\"middle\" x=\"731.5\" y=\"-41.8\" font-family=\"Times New Roman,serif\" font-size=\"14.00\">b</text>\n<polyline fill=\"none\" stroke=\"black\" points=\"743.5,-27.5 743.5,-63.5\"/>\n<text text-anchor=\"middle\" x=\"784\" y=\"-41.8\" font-family=\"Times New Roman,serif\" font-size=\"14.00\">data 6.8814</text>\n<polyline fill=\"none\" stroke=\"black\" points=\"824.5,-27.5 824.5,-63.5\"/>\n<text text-anchor=\"middle\" x=\"866\" y=\"-41.8\" font-family=\"Times New Roman,serif\" font-size=\"14.00\">grad 0.0000</text>\n</g>\n<!-- 2231857821448&#45;&gt;2231860588040+ -->\n<g id=\"edge12\" class=\"edge\">\n<title>2231857821448&#45;&gt;2231860588040+</title>\n<path fill=\"none\" stroke=\"black\" d=\"M907.65,-58.17C932.41,-61.54 957.68,-64.98 977.26,-67.64\"/>\n<polygon fill=\"black\" stroke=\"black\" points=\"976.85,-71.12 987.23,-68.99 977.79,-64.18 976.85,-71.12\"/>\n</g>\n<!-- 2231670175624 -->\n<g id=\"node15\" class=\"node\">\n<title>2231670175624</title>\n<polygon fill=\"none\" stroke=\"black\" points=\"2.5,-0.5 2.5,-36.5 199.5,-36.5 199.5,-0.5 2.5,-0.5\"/>\n<text text-anchor=\"middle\" x=\"19\" y=\"-14.8\" font-family=\"Times New Roman,serif\" font-size=\"14.00\">w2</text>\n<polyline fill=\"none\" stroke=\"black\" points=\"35.5,-0.5 35.5,-36.5\"/>\n<text text-anchor=\"middle\" x=\"76\" y=\"-14.8\" font-family=\"Times New Roman,serif\" font-size=\"14.00\">data 1.0000</text>\n<polyline fill=\"none\" stroke=\"black\" points=\"116.5,-0.5 116.5,-36.5\"/>\n<text text-anchor=\"middle\" x=\"158\" y=\"-14.8\" font-family=\"Times New Roman,serif\" font-size=\"14.00\">grad 0.0000</text>\n</g>\n<!-- 2231670175624&#45;&gt;2231861259400* -->\n<g id=\"edge6\" class=\"edge\">\n<title>2231670175624&#45;&gt;2231861259400*</title>\n<path fill=\"none\" stroke=\"black\" d=\"M174.26,-36.52C183.66,-39.3 193.11,-42.32 202,-45.5 212.53,-49.27 223.76,-54.09 233.72,-58.66\"/>\n<polygon fill=\"black\" stroke=\"black\" points=\"232.29,-61.85 242.83,-62.92 235.26,-55.51 232.29,-61.85\"/>\n</g>\n</g>\n</svg>\n",
      "text/plain": [
       "<graphviz.graphs.Digraph at 0x207a54a03c8>"
      ]
     },
     "execution_count": 6,
     "metadata": {},
     "output_type": "execute_result"
    }
   ],
   "source": [
    "draw_dot(o)"
   ]
  },
  {
   "cell_type": "code",
   "execution_count": 7,
   "metadata": {},
   "outputs": [],
   "source": [
    "o.grad = 1\n",
    "o._backward()"
   ]
  },
  {
   "cell_type": "code",
   "execution_count": 8,
   "metadata": {},
   "outputs": [],
   "source": [
    "# n._backward()\n",
    "x1w1x2w2._backward()"
   ]
  },
  {
   "cell_type": "code",
   "execution_count": 9,
   "metadata": {},
   "outputs": [],
   "source": [
    "o.backward()\n",
    "\n"
   ]
  },
  {
   "cell_type": "code",
   "execution_count": 10,
   "metadata": {},
   "outputs": [
    {
     "data": {
      "text/plain": [
       "Value(data=0.5)"
      ]
     },
     "execution_count": 10,
     "metadata": {},
     "output_type": "execute_result"
    }
   ],
   "source": [
    "a = Value(2.0, label='a')\n",
    "b = Value(4.0, label='b')\n",
    "\n",
    "a/b\n",
    "\n",
    "# b.backward()\n",
    "\n",
    "# draw_dot(b)"
   ]
  },
  {
   "cell_type": "code",
   "execution_count": null,
   "metadata": {},
   "outputs": [],
   "source": []
  },
  {
   "cell_type": "code",
   "execution_count": 11,
   "metadata": {},
   "outputs": [],
   "source": [
    "# inputs x1,x2\n",
    "x1 = Value(2.0, label='x1')\n",
    "x2 = Value(0.0, label='x2')\n",
    "# weights w1,w2\n",
    "w1 = Value(-3.0, label='w1')\n",
    "w2 = Value(1.0, label='w2')\n",
    "# bias of the neuron\n",
    "b = Value(6.8813735870195432, label='b')\n",
    "# x1*w1 + x2*w2 + b\n",
    "x1w1 = x1*w1; x1w1.label = 'x1*w1'\n",
    "x2w2 = x2*w2; x2w2.label = 'x2*w2'\n",
    "x1w1x2w2 = x1w1 + x2w2; x1w1x2w2.label = 'x1*w1 + x2*w2'\n",
    "n = x1w1x2w2 + b; n.label = 'n'\n",
    "# ---- \n",
    "e = (2 * n).exp()\n",
    "o = (e - 1) / (e + 1)\n",
    "# o = n.tanh(); \n",
    "# ---- \n",
    "o.label = 'o'\n",
    "o.backward()\n",
    "\n"
   ]
  },
  {
   "cell_type": "code",
   "execution_count": 12,
   "metadata": {},
   "outputs": [
    {
     "data": {
      "image/svg+xml": "<?xml version=\"1.0\" encoding=\"UTF-8\" standalone=\"no\"?>\n<!DOCTYPE svg PUBLIC \"-//W3C//DTD SVG 1.1//EN\"\n \"http://www.w3.org/Graphics/SVG/1.1/DTD/svg11.dtd\">\n<!-- Generated by graphviz version 6.0.2 (20221011.1828)\n -->\n<!-- Pages: 1 -->\n<svg width=\"2854pt\" height=\"239pt\"\n viewBox=\"0.00 0.00 2854.00 239.00\" xmlns=\"http://www.w3.org/2000/svg\" xmlns:xlink=\"http://www.w3.org/1999/xlink\">\n<g id=\"graph0\" class=\"graph\" transform=\"scale(1 1) rotate(0) translate(4 235)\">\n<polygon fill=\"white\" stroke=\"none\" points=\"-4,4 -4,-235 2850,-235 2850,4 -4,4\"/>\n<!-- 2231862186504 -->\n<g id=\"node1\" class=\"node\">\n<title>2231862186504</title>\n<polygon fill=\"none\" stroke=\"black\" points=\"2034,-27.5 2034,-63.5 2222,-63.5 2222,-27.5 2034,-27.5\"/>\n<text text-anchor=\"middle\" x=\"2044\" y=\"-41.8\" font-family=\"Times New Roman,serif\" font-size=\"14.00\"> </text>\n<polyline fill=\"none\" stroke=\"black\" points=\"2054,-27.5 2054,-63.5\"/>\n<text text-anchor=\"middle\" x=\"2094.5\" y=\"-41.8\" font-family=\"Times New Roman,serif\" font-size=\"14.00\">data 6.8284</text>\n<polyline fill=\"none\" stroke=\"black\" points=\"2135,-27.5 2135,-63.5\"/>\n<text text-anchor=\"middle\" x=\"2178.5\" y=\"-41.8\" font-family=\"Times New Roman,serif\" font-size=\"14.00\">grad &#45;0.1036</text>\n</g>\n<!-- 2231862186632**&#45;1 -->\n<g id=\"node8\" class=\"node\">\n<title>2231862186632**&#45;1</title>\n<ellipse fill=\"none\" stroke=\"black\" cx=\"2285\" cy=\"-45.5\" rx=\"27\" ry=\"18\"/>\n<text text-anchor=\"middle\" x=\"2285\" y=\"-41.8\" font-family=\"Times New Roman,serif\" font-size=\"14.00\">**&#45;1</text>\n</g>\n<!-- 2231862186504&#45;&gt;2231862186632**&#45;1 -->\n<g id=\"edge24\" class=\"edge\">\n<title>2231862186504&#45;&gt;2231862186632**&#45;1</title>\n<path fill=\"none\" stroke=\"black\" d=\"M2222.29,-45.5C2231.2,-45.5 2239.81,-45.5 2247.64,-45.5\"/>\n<polygon fill=\"black\" stroke=\"black\" points=\"2247.77,-49 2257.77,-45.5 2247.77,-42 2247.77,-49\"/>\n</g>\n<!-- 2231862186504+ -->\n<g id=\"node2\" class=\"node\">\n<title>2231862186504+</title>\n<ellipse fill=\"none\" stroke=\"black\" cx=\"1971\" cy=\"-45.5\" rx=\"27\" ry=\"18\"/>\n<text text-anchor=\"middle\" x=\"1971\" y=\"-41.8\" font-family=\"Times New Roman,serif\" font-size=\"14.00\">+</text>\n</g>\n<!-- 2231862186504+&#45;&gt;2231862186504 -->\n<g id=\"edge1\" class=\"edge\">\n<title>2231862186504+&#45;&gt;2231862186504</title>\n<path fill=\"none\" stroke=\"black\" d=\"M1998.29,-45.5C2005.78,-45.5 2014.42,-45.5 2023.6,-45.5\"/>\n<polygon fill=\"black\" stroke=\"black\" points=\"2023.76,-49 2033.76,-45.5 2023.76,-42 2023.76,-49\"/>\n</g>\n<!-- 2231862246920 -->\n<g id=\"node3\" class=\"node\">\n<title>2231862246920</title>\n<polygon fill=\"none\" stroke=\"black\" points=\"6,-84.5 6,-120.5 200,-120.5 200,-84.5 6,-84.5\"/>\n<text text-anchor=\"middle\" x=\"21\" y=\"-98.8\" font-family=\"Times New Roman,serif\" font-size=\"14.00\">x1</text>\n<polyline fill=\"none\" stroke=\"black\" points=\"36,-84.5 36,-120.5\"/>\n<text text-anchor=\"middle\" x=\"76.5\" y=\"-98.8\" font-family=\"Times New Roman,serif\" font-size=\"14.00\">data 2.0000</text>\n<polyline fill=\"none\" stroke=\"black\" points=\"117,-84.5 117,-120.5\"/>\n<text text-anchor=\"middle\" x=\"158.5\" y=\"-98.8\" font-family=\"Times New Roman,serif\" font-size=\"14.00\">grad 3.6213</text>\n</g>\n<!-- 2231862247368* -->\n<g id=\"node15\" class=\"node\">\n<title>2231862247368*</title>\n<ellipse fill=\"none\" stroke=\"black\" cx=\"269\" cy=\"-102.5\" rx=\"27\" ry=\"18\"/>\n<text text-anchor=\"middle\" x=\"269\" y=\"-98.8\" font-family=\"Times New Roman,serif\" font-size=\"14.00\">*</text>\n</g>\n<!-- 2231862246920&#45;&gt;2231862247368* -->\n<g id=\"edge14\" class=\"edge\">\n<title>2231862246920&#45;&gt;2231862247368*</title>\n<path fill=\"none\" stroke=\"black\" d=\"M200.35,-102.5C211.39,-102.5 222.08,-102.5 231.57,-102.5\"/>\n<polygon fill=\"black\" stroke=\"black\" points=\"231.73,-106 241.73,-102.5 231.73,-99 231.73,-106\"/>\n</g>\n<!-- 2231862186056 -->\n<g id=\"node4\" class=\"node\">\n<title>2231862186056</title>\n<polygon fill=\"none\" stroke=\"black\" points=\"1089,-83.5 1089,-119.5 1280,-119.5 1280,-83.5 1089,-83.5\"/>\n<text text-anchor=\"middle\" x=\"1100.5\" y=\"-97.8\" font-family=\"Times New Roman,serif\" font-size=\"14.00\">n</text>\n<polyline fill=\"none\" stroke=\"black\" points=\"1112,-83.5 1112,-119.5\"/>\n<text text-anchor=\"middle\" x=\"1152.5\" y=\"-97.8\" font-family=\"Times New Roman,serif\" font-size=\"14.00\">data 0.8814</text>\n<polyline fill=\"none\" stroke=\"black\" points=\"1193,-83.5 1193,-119.5\"/>\n<text text-anchor=\"middle\" x=\"1236.5\" y=\"-97.8\" font-family=\"Times New Roman,serif\" font-size=\"14.00\">grad &#45;1.2071</text>\n</g>\n<!-- 2231862186184* -->\n<g id=\"node11\" class=\"node\">\n<title>2231862186184*</title>\n<ellipse fill=\"none\" stroke=\"black\" cx=\"1343\" cy=\"-73.5\" rx=\"27\" ry=\"18\"/>\n<text text-anchor=\"middle\" x=\"1343\" y=\"-69.8\" font-family=\"Times New Roman,serif\" font-size=\"14.00\">*</text>\n</g>\n<!-- 2231862186056&#45;&gt;2231862186184* -->\n<g id=\"edge20\" class=\"edge\">\n<title>2231862186056&#45;&gt;2231862186184*</title>\n<path fill=\"none\" stroke=\"black\" d=\"M1280.15,-84.57C1289.46,-82.9 1298.44,-81.29 1306.54,-79.84\"/>\n<polygon fill=\"black\" stroke=\"black\" points=\"1307.41,-83.24 1316.64,-78.04 1306.18,-76.35 1307.41,-83.24\"/>\n</g>\n<!-- 2231862186056+ -->\n<g id=\"node5\" class=\"node\">\n<title>2231862186056+</title>\n<ellipse fill=\"none\" stroke=\"black\" cx=\"1026\" cy=\"-101.5\" rx=\"27\" ry=\"18\"/>\n<text text-anchor=\"middle\" x=\"1026\" y=\"-97.8\" font-family=\"Times New Roman,serif\" font-size=\"14.00\">+</text>\n</g>\n<!-- 2231862186056+&#45;&gt;2231862186056 -->\n<g id=\"edge2\" class=\"edge\">\n<title>2231862186056+&#45;&gt;2231862186056</title>\n<path fill=\"none\" stroke=\"black\" d=\"M1053.19,-101.5C1060.67,-101.5 1069.31,-101.5 1078.51,-101.5\"/>\n<polygon fill=\"black\" stroke=\"black\" points=\"1078.68,-105 1088.68,-101.5 1078.68,-98 1078.68,-105\"/>\n</g>\n<!-- 2231862246984 -->\n<g id=\"node6\" class=\"node\">\n<title>2231862246984</title>\n<polygon fill=\"none\" stroke=\"black\" points=\"0,-29.5 0,-65.5 206,-65.5 206,-29.5 0,-29.5\"/>\n<text text-anchor=\"middle\" x=\"16.5\" y=\"-43.8\" font-family=\"Times New Roman,serif\" font-size=\"14.00\">w1</text>\n<polyline fill=\"none\" stroke=\"black\" points=\"33,-29.5 33,-65.5\"/>\n<text text-anchor=\"middle\" x=\"76\" y=\"-43.8\" font-family=\"Times New Roman,serif\" font-size=\"14.00\">data &#45;3.0000</text>\n<polyline fill=\"none\" stroke=\"black\" points=\"119,-29.5 119,-65.5\"/>\n<text text-anchor=\"middle\" x=\"162.5\" y=\"-43.8\" font-family=\"Times New Roman,serif\" font-size=\"14.00\">grad &#45;2.4142</text>\n</g>\n<!-- 2231862246984&#45;&gt;2231862247368* -->\n<g id=\"edge12\" class=\"edge\">\n<title>2231862246984&#45;&gt;2231862247368*</title>\n<path fill=\"none\" stroke=\"black\" d=\"M174.91,-65.56C185.41,-68.64 196.04,-71.99 206,-75.5 216.3,-79.13 227.29,-83.69 237.12,-88.02\"/>\n<polygon fill=\"black\" stroke=\"black\" points=\"235.94,-91.33 246.5,-92.23 238.81,-84.94 235.94,-91.33\"/>\n</g>\n<!-- 2231862186632 -->\n<g id=\"node7\" class=\"node\">\n<title>2231862186632</title>\n<polygon fill=\"none\" stroke=\"black\" points=\"2348,-27.5 2348,-63.5 2532,-63.5 2532,-27.5 2348,-27.5\"/>\n<text text-anchor=\"middle\" x=\"2358\" y=\"-41.8\" font-family=\"Times New Roman,serif\" font-size=\"14.00\"> </text>\n<polyline fill=\"none\" stroke=\"black\" points=\"2368,-27.5 2368,-63.5\"/>\n<text text-anchor=\"middle\" x=\"2408.5\" y=\"-41.8\" font-family=\"Times New Roman,serif\" font-size=\"14.00\">data 0.1464</text>\n<polyline fill=\"none\" stroke=\"black\" points=\"2449,-27.5 2449,-63.5\"/>\n<text text-anchor=\"middle\" x=\"2490.5\" y=\"-41.8\" font-family=\"Times New Roman,serif\" font-size=\"14.00\">grad 4.8284</text>\n</g>\n<!-- 2231862186824* -->\n<g id=\"node19\" class=\"node\">\n<title>2231862186824*</title>\n<ellipse fill=\"none\" stroke=\"black\" cx=\"2595\" cy=\"-72.5\" rx=\"27\" ry=\"18\"/>\n<text text-anchor=\"middle\" x=\"2595\" y=\"-68.8\" font-family=\"Times New Roman,serif\" font-size=\"14.00\">*</text>\n</g>\n<!-- 2231862186632&#45;&gt;2231862186824* -->\n<g id=\"edge17\" class=\"edge\">\n<title>2231862186632&#45;&gt;2231862186824*</title>\n<path fill=\"none\" stroke=\"black\" d=\"M2532.21,-61.6C2541.47,-63.23 2550.42,-64.81 2558.51,-66.24\"/>\n<polygon fill=\"black\" stroke=\"black\" points=\"2558.14,-69.73 2568.6,-68.02 2559.36,-62.83 2558.14,-69.73\"/>\n</g>\n<!-- 2231862186632**&#45;1&#45;&gt;2231862186632 -->\n<g id=\"edge3\" class=\"edge\">\n<title>2231862186632**&#45;1&#45;&gt;2231862186632</title>\n<path fill=\"none\" stroke=\"black\" d=\"M2312.3,-45.5C2319.83,-45.5 2328.52,-45.5 2337.75,-45.5\"/>\n<polygon fill=\"black\" stroke=\"black\" points=\"2337.95,-49 2347.95,-45.5 2337.95,-42 2337.95,-49\"/>\n</g>\n<!-- 2231862186120 -->\n<g id=\"node9\" class=\"node\">\n<title>2231862186120</title>\n<polygon fill=\"none\" stroke=\"black\" points=\"1090.5,-28.5 1090.5,-64.5 1278.5,-64.5 1278.5,-28.5 1090.5,-28.5\"/>\n<text text-anchor=\"middle\" x=\"1100.5\" y=\"-42.8\" font-family=\"Times New Roman,serif\" font-size=\"14.00\"> </text>\n<polyline fill=\"none\" stroke=\"black\" points=\"1110.5,-28.5 1110.5,-64.5\"/>\n<text text-anchor=\"middle\" x=\"1151\" y=\"-42.8\" font-family=\"Times New Roman,serif\" font-size=\"14.00\">data 2.0000</text>\n<polyline fill=\"none\" stroke=\"black\" points=\"1191.5,-28.5 1191.5,-64.5\"/>\n<text text-anchor=\"middle\" x=\"1235\" y=\"-42.8\" font-family=\"Times New Roman,serif\" font-size=\"14.00\">grad &#45;0.5320</text>\n</g>\n<!-- 2231862186120&#45;&gt;2231862186184* -->\n<g id=\"edge13\" class=\"edge\">\n<title>2231862186120&#45;&gt;2231862186184*</title>\n<path fill=\"none\" stroke=\"black\" d=\"M1278.8,-62.6C1288.66,-64.3 1298.2,-65.94 1306.74,-67.42\"/>\n<polygon fill=\"black\" stroke=\"black\" points=\"1306.17,-70.87 1316.62,-69.12 1307.37,-63.97 1306.17,-70.87\"/>\n</g>\n<!-- 2231862186184 -->\n<g id=\"node10\" class=\"node\">\n<title>2231862186184</title>\n<polygon fill=\"none\" stroke=\"black\" points=\"1406,-55.5 1406,-91.5 1594,-91.5 1594,-55.5 1406,-55.5\"/>\n<text text-anchor=\"middle\" x=\"1416\" y=\"-69.8\" font-family=\"Times New Roman,serif\" font-size=\"14.00\"> </text>\n<polyline fill=\"none\" stroke=\"black\" points=\"1426,-55.5 1426,-91.5\"/>\n<text text-anchor=\"middle\" x=\"1466.5\" y=\"-69.8\" font-family=\"Times New Roman,serif\" font-size=\"14.00\">data 1.7627</text>\n<polyline fill=\"none\" stroke=\"black\" points=\"1507,-55.5 1507,-91.5\"/>\n<text text-anchor=\"middle\" x=\"1550.5\" y=\"-69.8\" font-family=\"Times New Roman,serif\" font-size=\"14.00\">grad &#45;0.6036</text>\n</g>\n<!-- 2231862186312exp -->\n<g id=\"node21\" class=\"node\">\n<title>2231862186312exp</title>\n<ellipse fill=\"none\" stroke=\"black\" cx=\"1657\" cy=\"-73.5\" rx=\"27\" ry=\"18\"/>\n<text text-anchor=\"middle\" x=\"1657\" y=\"-69.8\" font-family=\"Times New Roman,serif\" font-size=\"14.00\">exp</text>\n</g>\n<!-- 2231862186184&#45;&gt;2231862186312exp -->\n<g id=\"edge10\" class=\"edge\">\n<title>2231862186184&#45;&gt;2231862186312exp</title>\n<path fill=\"none\" stroke=\"black\" d=\"M1594.29,-73.5C1603.2,-73.5 1611.81,-73.5 1619.64,-73.5\"/>\n<polygon fill=\"black\" stroke=\"black\" points=\"1619.77,-77 1629.77,-73.5 1619.77,-70 1619.77,-77\"/>\n</g>\n<!-- 2231862186184*&#45;&gt;2231862186184 -->\n<g id=\"edge4\" class=\"edge\">\n<title>2231862186184*&#45;&gt;2231862186184</title>\n<path fill=\"none\" stroke=\"black\" d=\"M1370.29,-73.5C1377.78,-73.5 1386.42,-73.5 1395.6,-73.5\"/>\n<polygon fill=\"black\" stroke=\"black\" points=\"1395.76,-77 1405.76,-73.5 1395.76,-70 1395.76,-77\"/>\n</g>\n<!-- 2231862247112 -->\n<g id=\"node12\" class=\"node\">\n<title>2231862247112</title>\n<polygon fill=\"none\" stroke=\"black\" points=\"334.5,-139.5 334.5,-175.5 555.5,-175.5 555.5,-139.5 334.5,-139.5\"/>\n<text text-anchor=\"middle\" x=\"361\" y=\"-153.8\" font-family=\"Times New Roman,serif\" font-size=\"14.00\">x2*w2</text>\n<polyline fill=\"none\" stroke=\"black\" points=\"387.5,-139.5 387.5,-175.5\"/>\n<text text-anchor=\"middle\" x=\"428\" y=\"-153.8\" font-family=\"Times New Roman,serif\" font-size=\"14.00\">data 0.0000</text>\n<polyline fill=\"none\" stroke=\"black\" points=\"468.5,-139.5 468.5,-175.5\"/>\n<text text-anchor=\"middle\" x=\"512\" y=\"-153.8\" font-family=\"Times New Roman,serif\" font-size=\"14.00\">grad &#45;1.2071</text>\n</g>\n<!-- 2231862247240+ -->\n<g id=\"node23\" class=\"node\">\n<title>2231862247240+</title>\n<ellipse fill=\"none\" stroke=\"black\" cx=\"621\" cy=\"-129.5\" rx=\"27\" ry=\"18\"/>\n<text text-anchor=\"middle\" x=\"621\" y=\"-125.8\" font-family=\"Times New Roman,serif\" font-size=\"14.00\">+</text>\n</g>\n<!-- 2231862247112&#45;&gt;2231862247240+ -->\n<g id=\"edge11\" class=\"edge\">\n<title>2231862247112&#45;&gt;2231862247240+</title>\n<path fill=\"none\" stroke=\"black\" d=\"M555.7,-139.85C565.93,-138.2 575.71,-136.63 584.42,-135.23\"/>\n<polygon fill=\"black\" stroke=\"black\" points=\"585.15,-138.65 594.46,-133.61 584.03,-131.74 585.15,-138.65\"/>\n</g>\n<!-- 2231862247112* -->\n<g id=\"node13\" class=\"node\">\n<title>2231862247112*</title>\n<ellipse fill=\"none\" stroke=\"black\" cx=\"269\" cy=\"-157.5\" rx=\"27\" ry=\"18\"/>\n<text text-anchor=\"middle\" x=\"269\" y=\"-153.8\" font-family=\"Times New Roman,serif\" font-size=\"14.00\">*</text>\n</g>\n<!-- 2231862247112*&#45;&gt;2231862247112 -->\n<g id=\"edge5\" class=\"edge\">\n<title>2231862247112*&#45;&gt;2231862247112</title>\n<path fill=\"none\" stroke=\"black\" d=\"M296.05,-157.5C304.24,-157.5 313.88,-157.5 324.24,-157.5\"/>\n<polygon fill=\"black\" stroke=\"black\" points=\"324.38,-161 334.38,-157.5 324.38,-154 324.38,-161\"/>\n</g>\n<!-- 2231862247368 -->\n<g id=\"node14\" class=\"node\">\n<title>2231862247368</title>\n<polygon fill=\"none\" stroke=\"black\" points=\"332,-84.5 332,-120.5 558,-120.5 558,-84.5 332,-84.5\"/>\n<text text-anchor=\"middle\" x=\"358.5\" y=\"-98.8\" font-family=\"Times New Roman,serif\" font-size=\"14.00\">x1*w1</text>\n<polyline fill=\"none\" stroke=\"black\" points=\"385,-84.5 385,-120.5\"/>\n<text text-anchor=\"middle\" x=\"428\" y=\"-98.8\" font-family=\"Times New Roman,serif\" font-size=\"14.00\">data &#45;6.0000</text>\n<polyline fill=\"none\" stroke=\"black\" points=\"471,-84.5 471,-120.5\"/>\n<text text-anchor=\"middle\" x=\"514.5\" y=\"-98.8\" font-family=\"Times New Roman,serif\" font-size=\"14.00\">grad &#45;1.2071</text>\n</g>\n<!-- 2231862247368&#45;&gt;2231862247240+ -->\n<g id=\"edge21\" class=\"edge\">\n<title>2231862247368&#45;&gt;2231862247240+</title>\n<path fill=\"none\" stroke=\"black\" d=\"M558.16,-119.9C567.49,-121.35 576.4,-122.73 584.4,-123.98\"/>\n<polygon fill=\"black\" stroke=\"black\" points=\"583.94,-127.45 594.35,-125.52 585.01,-120.53 583.94,-127.45\"/>\n</g>\n<!-- 2231862247368*&#45;&gt;2231862247368 -->\n<g id=\"edge6\" class=\"edge\">\n<title>2231862247368*&#45;&gt;2231862247368</title>\n<path fill=\"none\" stroke=\"black\" d=\"M296.05,-102.5C303.58,-102.5 312.33,-102.5 321.75,-102.5\"/>\n<polygon fill=\"black\" stroke=\"black\" points=\"321.78,-106 331.78,-102.5 321.78,-99 321.78,-106\"/>\n</g>\n<!-- 2231862247176 -->\n<g id=\"node16\" class=\"node\">\n<title>2231862247176</title>\n<polygon fill=\"none\" stroke=\"black\" points=\"4.5,-194.5 4.5,-230.5 201.5,-230.5 201.5,-194.5 4.5,-194.5\"/>\n<text text-anchor=\"middle\" x=\"21\" y=\"-208.8\" font-family=\"Times New Roman,serif\" font-size=\"14.00\">w2</text>\n<polyline fill=\"none\" stroke=\"black\" points=\"37.5,-194.5 37.5,-230.5\"/>\n<text text-anchor=\"middle\" x=\"78\" y=\"-208.8\" font-family=\"Times New Roman,serif\" font-size=\"14.00\">data 1.0000</text>\n<polyline fill=\"none\" stroke=\"black\" points=\"118.5,-194.5 118.5,-230.5\"/>\n<text text-anchor=\"middle\" x=\"160\" y=\"-208.8\" font-family=\"Times New Roman,serif\" font-size=\"14.00\">grad 0.0000</text>\n</g>\n<!-- 2231862247176&#45;&gt;2231862247112* -->\n<g id=\"edge25\" class=\"edge\">\n<title>2231862247176&#45;&gt;2231862247112*</title>\n<path fill=\"none\" stroke=\"black\" d=\"M177.99,-194.47C187.49,-191.7 197.02,-188.69 206,-185.5 216.54,-181.75 227.77,-176.95 237.74,-172.38\"/>\n<polygon fill=\"black\" stroke=\"black\" points=\"239.27,-175.52 246.84,-168.11 236.3,-169.18 239.27,-175.52\"/>\n</g>\n<!-- 2231862186760 -->\n<g id=\"node17\" class=\"node\">\n<title>2231862186760</title>\n<polygon fill=\"none\" stroke=\"black\" points=\"2348,-82.5 2348,-118.5 2532,-118.5 2532,-82.5 2348,-82.5\"/>\n<text text-anchor=\"middle\" x=\"2358\" y=\"-96.8\" font-family=\"Times New Roman,serif\" font-size=\"14.00\"> </text>\n<polyline fill=\"none\" stroke=\"black\" points=\"2368,-82.5 2368,-118.5\"/>\n<text text-anchor=\"middle\" x=\"2408.5\" y=\"-96.8\" font-family=\"Times New Roman,serif\" font-size=\"14.00\">data 4.8284</text>\n<polyline fill=\"none\" stroke=\"black\" points=\"2449,-82.5 2449,-118.5\"/>\n<text text-anchor=\"middle\" x=\"2490.5\" y=\"-96.8\" font-family=\"Times New Roman,serif\" font-size=\"14.00\">grad 0.1464</text>\n</g>\n<!-- 2231862186760&#45;&gt;2231862186824* -->\n<g id=\"edge22\" class=\"edge\">\n<title>2231862186760&#45;&gt;2231862186824*</title>\n<path fill=\"none\" stroke=\"black\" d=\"M2532.21,-83.81C2541.47,-82.11 2550.42,-80.48 2558.51,-78.99\"/>\n<polygon fill=\"black\" stroke=\"black\" points=\"2559.39,-82.39 2568.6,-77.15 2558.13,-75.51 2559.39,-82.39\"/>\n</g>\n<!-- 2231862186824 -->\n<g id=\"node18\" class=\"node\">\n<title>2231862186824</title>\n<polygon fill=\"none\" stroke=\"black\" points=\"2658,-54.5 2658,-90.5 2846,-90.5 2846,-54.5 2658,-54.5\"/>\n<text text-anchor=\"middle\" x=\"2670\" y=\"-68.8\" font-family=\"Times New Roman,serif\" font-size=\"14.00\">o</text>\n<polyline fill=\"none\" stroke=\"black\" points=\"2682,-54.5 2682,-90.5\"/>\n<text text-anchor=\"middle\" x=\"2722.5\" y=\"-68.8\" font-family=\"Times New Roman,serif\" font-size=\"14.00\">data 0.7071</text>\n<polyline fill=\"none\" stroke=\"black\" points=\"2763,-54.5 2763,-90.5\"/>\n<text text-anchor=\"middle\" x=\"2804.5\" y=\"-68.8\" font-family=\"Times New Roman,serif\" font-size=\"14.00\">grad 1.0000</text>\n</g>\n<!-- 2231862186824*&#45;&gt;2231862186824 -->\n<g id=\"edge7\" class=\"edge\">\n<title>2231862186824*&#45;&gt;2231862186824</title>\n<path fill=\"none\" stroke=\"black\" d=\"M2622.29,-72.5C2629.78,-72.5 2638.42,-72.5 2647.6,-72.5\"/>\n<polygon fill=\"black\" stroke=\"black\" points=\"2647.76,-76 2657.76,-72.5 2647.76,-69 2647.76,-76\"/>\n</g>\n<!-- 2231862186312 -->\n<g id=\"node20\" class=\"node\">\n<title>2231862186312</title>\n<polygon fill=\"none\" stroke=\"black\" points=\"1720,-55.5 1720,-91.5 1908,-91.5 1908,-55.5 1720,-55.5\"/>\n<text text-anchor=\"middle\" x=\"1730\" y=\"-69.8\" font-family=\"Times New Roman,serif\" font-size=\"14.00\"> </text>\n<polyline fill=\"none\" stroke=\"black\" points=\"1740,-55.5 1740,-91.5\"/>\n<text text-anchor=\"middle\" x=\"1780.5\" y=\"-69.8\" font-family=\"Times New Roman,serif\" font-size=\"14.00\">data 5.8284</text>\n<polyline fill=\"none\" stroke=\"black\" points=\"1821,-55.5 1821,-91.5\"/>\n<text text-anchor=\"middle\" x=\"1864.5\" y=\"-69.8\" font-family=\"Times New Roman,serif\" font-size=\"14.00\">grad &#45;0.1036</text>\n</g>\n<!-- 2231862186312&#45;&gt;2231862186504+ -->\n<g id=\"edge16\" class=\"edge\">\n<title>2231862186312&#45;&gt;2231862186504+</title>\n<path fill=\"none\" stroke=\"black\" d=\"M1908.29,-56.65C1917.57,-54.97 1926.52,-53.35 1934.61,-51.89\"/>\n<polygon fill=\"black\" stroke=\"black\" points=\"1935.46,-55.3 1944.68,-50.07 1934.21,-48.41 1935.46,-55.3\"/>\n</g>\n<!-- 2231862186312exp&#45;&gt;2231862186312 -->\n<g id=\"edge8\" class=\"edge\">\n<title>2231862186312exp&#45;&gt;2231862186312</title>\n<path fill=\"none\" stroke=\"black\" d=\"M1684.29,-73.5C1691.78,-73.5 1700.42,-73.5 1709.6,-73.5\"/>\n<polygon fill=\"black\" stroke=\"black\" points=\"1709.76,-77 1719.76,-73.5 1709.76,-70 1709.76,-77\"/>\n</g>\n<!-- 2231862247240 -->\n<g id=\"node22\" class=\"node\">\n<title>2231862247240</title>\n<polygon fill=\"none\" stroke=\"black\" points=\"684,-111.5 684,-147.5 963,-147.5 963,-111.5 684,-111.5\"/>\n<text text-anchor=\"middle\" x=\"737\" y=\"-125.8\" font-family=\"Times New Roman,serif\" font-size=\"14.00\">x1*w1 + x2*w2</text>\n<polyline fill=\"none\" stroke=\"black\" points=\"790,-111.5 790,-147.5\"/>\n<text text-anchor=\"middle\" x=\"833\" y=\"-125.8\" font-family=\"Times New Roman,serif\" font-size=\"14.00\">data &#45;6.0000</text>\n<polyline fill=\"none\" stroke=\"black\" points=\"876,-111.5 876,-147.5\"/>\n<text text-anchor=\"middle\" x=\"919.5\" y=\"-125.8\" font-family=\"Times New Roman,serif\" font-size=\"14.00\">grad &#45;1.2071</text>\n</g>\n<!-- 2231862247240&#45;&gt;2231862186056+ -->\n<g id=\"edge19\" class=\"edge\">\n<title>2231862247240&#45;&gt;2231862186056+</title>\n<path fill=\"none\" stroke=\"black\" d=\"M953.46,-111.49C966.46,-109.67 978.76,-107.96 989.37,-106.48\"/>\n<polygon fill=\"black\" stroke=\"black\" points=\"989.97,-109.93 999.39,-105.08 989,-102.99 989.97,-109.93\"/>\n</g>\n<!-- 2231862247240+&#45;&gt;2231862247240 -->\n<g id=\"edge9\" class=\"edge\">\n<title>2231862247240+&#45;&gt;2231862247240</title>\n<path fill=\"none\" stroke=\"black\" d=\"M648.21,-129.5C655.62,-129.5 664.24,-129.5 673.61,-129.5\"/>\n<polygon fill=\"black\" stroke=\"black\" points=\"673.63,-133 683.63,-129.5 673.63,-126 673.63,-133\"/>\n</g>\n<!-- 2231862186440 -->\n<g id=\"node24\" class=\"node\">\n<title>2231862186440</title>\n<polygon fill=\"none\" stroke=\"black\" points=\"1720,-0.5 1720,-36.5 1908,-36.5 1908,-0.5 1720,-0.5\"/>\n<text text-anchor=\"middle\" x=\"1730\" y=\"-14.8\" font-family=\"Times New Roman,serif\" font-size=\"14.00\"> </text>\n<polyline fill=\"none\" stroke=\"black\" points=\"1740,-0.5 1740,-36.5\"/>\n<text text-anchor=\"middle\" x=\"1780.5\" y=\"-14.8\" font-family=\"Times New Roman,serif\" font-size=\"14.00\">data 1.0000</text>\n<polyline fill=\"none\" stroke=\"black\" points=\"1821,-0.5 1821,-36.5\"/>\n<text text-anchor=\"middle\" x=\"1864.5\" y=\"-14.8\" font-family=\"Times New Roman,serif\" font-size=\"14.00\">grad &#45;0.1036</text>\n</g>\n<!-- 2231862186440&#45;&gt;2231862186504+ -->\n<g id=\"edge23\" class=\"edge\">\n<title>2231862186440&#45;&gt;2231862186504+</title>\n<path fill=\"none\" stroke=\"black\" d=\"M1908.29,-34.75C1917.57,-36.37 1926.52,-37.93 1934.61,-39.33\"/>\n<polygon fill=\"black\" stroke=\"black\" points=\"1934.22,-42.82 1944.68,-41.09 1935.42,-35.92 1934.22,-42.82\"/>\n</g>\n<!-- 2231862247304 -->\n<g id=\"node25\" class=\"node\">\n<title>2231862247304</title>\n<polygon fill=\"none\" stroke=\"black\" points=\"727.5,-56.5 727.5,-92.5 919.5,-92.5 919.5,-56.5 727.5,-56.5\"/>\n<text text-anchor=\"middle\" x=\"739.5\" y=\"-70.8\" font-family=\"Times New Roman,serif\" font-size=\"14.00\">b</text>\n<polyline fill=\"none\" stroke=\"black\" points=\"751.5,-56.5 751.5,-92.5\"/>\n<text text-anchor=\"middle\" x=\"792\" y=\"-70.8\" font-family=\"Times New Roman,serif\" font-size=\"14.00\">data 6.8814</text>\n<polyline fill=\"none\" stroke=\"black\" points=\"832.5,-56.5 832.5,-92.5\"/>\n<text text-anchor=\"middle\" x=\"876\" y=\"-70.8\" font-family=\"Times New Roman,serif\" font-size=\"14.00\">grad &#45;1.2071</text>\n</g>\n<!-- 2231862247304&#45;&gt;2231862186056+ -->\n<g id=\"edge18\" class=\"edge\">\n<title>2231862247304&#45;&gt;2231862186056+</title>\n<path fill=\"none\" stroke=\"black\" d=\"M919.76,-87.33C944.6,-90.67 969.84,-94.07 989.38,-96.7\"/>\n<polygon fill=\"black\" stroke=\"black\" points=\"988.95,-100.18 999.33,-98.04 989.88,-93.24 988.95,-100.18\"/>\n</g>\n<!-- 2231862246856 -->\n<g id=\"node26\" class=\"node\">\n<title>2231862246856</title>\n<polygon fill=\"none\" stroke=\"black\" points=\"4,-139.5 4,-175.5 202,-175.5 202,-139.5 4,-139.5\"/>\n<text text-anchor=\"middle\" x=\"19\" y=\"-153.8\" font-family=\"Times New Roman,serif\" font-size=\"14.00\">x2</text>\n<polyline fill=\"none\" stroke=\"black\" points=\"34,-139.5 34,-175.5\"/>\n<text text-anchor=\"middle\" x=\"74.5\" y=\"-153.8\" font-family=\"Times New Roman,serif\" font-size=\"14.00\">data 0.0000</text>\n<polyline fill=\"none\" stroke=\"black\" points=\"115,-139.5 115,-175.5\"/>\n<text text-anchor=\"middle\" x=\"158.5\" y=\"-153.8\" font-family=\"Times New Roman,serif\" font-size=\"14.00\">grad &#45;1.2071</text>\n</g>\n<!-- 2231862246856&#45;&gt;2231862247112* -->\n<g id=\"edge15\" class=\"edge\">\n<title>2231862246856&#45;&gt;2231862247112*</title>\n<path fill=\"none\" stroke=\"black\" d=\"M202.24,-157.5C212.73,-157.5 222.86,-157.5 231.88,-157.5\"/>\n<polygon fill=\"black\" stroke=\"black\" points=\"231.94,-161 241.94,-157.5 231.94,-154 231.94,-161\"/>\n</g>\n</g>\n</svg>\n",
      "text/plain": [
       "<graphviz.graphs.Digraph at 0x207a55c0dc8>"
      ]
     },
     "execution_count": 12,
     "metadata": {},
     "output_type": "execute_result"
    }
   ],
   "source": [
    "def trace(root):\n",
    "  # builds a set of all nodes and edges in a graph\n",
    "  nodes, edges = set(), set()\n",
    "  def build(v):\n",
    "    if v not in nodes:\n",
    "      nodes.add(v)\n",
    "\n",
    "      for child in v._prev:\n",
    "        edges.add((child, v))\n",
    "        build(child)\n",
    "  build(root)\n",
    "  return nodes, edges\n",
    "\n",
    "def draw_dot(root):\n",
    "  dot = Digraph(format='svg', graph_attr={'rankdir': 'LR'}) # LR = left to right\n",
    "  \n",
    "  nodes, edges = trace(root)\n",
    "  for n in nodes:\n",
    "    uid = str(id(n))\n",
    "    # for any value in the graph, create a rectangular ('record') node for it\n",
    "    dot.node(name = uid, label = \"{ %s | data %.4f | grad %.4f }\" % (n.label, n.data, n.grad), shape='record')\n",
    "    if n._op:\n",
    "      # if this value is a result of some operation, create an op node for it\n",
    "      dot.node(name = uid + n._op, label = n._op)\n",
    "      # and connect this node to it\n",
    "      dot.edge(uid + n._op, uid)\n",
    "\n",
    "  for n1, n2 in edges:\n",
    "    # connect n1 to the op node of n2\n",
    "    dot.edge(str(id(n1)), str(id(n2)) + n2._op)\n",
    "\n",
    "  return dot\n",
    "draw_dot(o)\n",
    "\n"
   ]
  },
  {
   "cell_type": "code",
   "execution_count": null,
   "metadata": {},
   "outputs": [],
   "source": [
    "o.grad"
   ]
  },
  {
   "cell_type": "code",
   "execution_count": null,
   "metadata": {},
   "outputs": [],
   "source": [
    "\n",
    "import random \n",
    "\n",
    "class Neuron: \n",
    "  def __init__(self, nin):\n",
    "    self.w = [Value(random.uniform(-1, 1)) for _ in range(nin)]\n",
    "    self.b = Value(random.uniform(-1, 1))\n",
    "\n",
    "  def parameters(self): \n",
    "    return self.w + [self.b]\n",
    "\n",
    "  def __call__(self, x):\n",
    "    # x dot w + b\n",
    "    act = sum([xi*wi for xi, wi in zip(x, self.w)]) + self.b\n",
    "    out = act.tanh()\n",
    "    return out\n",
    "\n",
    "class Layer: \n",
    "  def __init__(self, nin, nout):\n",
    "    self.neurons = [Neuron(nin) for _ in range(nout)]\n",
    "\n",
    "  def parameters(self): \n",
    "    return [p for n in self.neurons for p in n.parameters()]\n",
    "\n",
    "  def __call__(self, x):\n",
    "    outs = [n(x) for n in self.neurons]\n",
    "    return outs[0] if len(outs) == 1 else outs\n",
    "\n",
    "class MLP: \n",
    "  def __init__(self, nin, nouts): \n",
    "    sz = [nin] + nouts\n",
    "    self.layers = [Layer(sz[i], sz[i+1]) for i in range(len(nouts))]\n",
    "\n",
    "  def parameters(self): \n",
    "    return [p for l in self.layers for p in l.parameters()]\n",
    "\n",
    "  def __call__(self, x): \n",
    "    for l in self.layers: \n",
    "      x = l(x)\n",
    "    return x\n",
    "\n",
    "\n",
    "x = [2.0, 3.0, -1]\n",
    "# layer = Layer(2, 3)\n",
    "# layer(x)\n",
    "\n",
    "mlp = MLP(3, [4, 4, 1])\n",
    "p = mlp(x)"
   ]
  },
  {
   "cell_type": "code",
   "execution_count": null,
   "metadata": {},
   "outputs": [],
   "source": [
    "# draw_dot(p)"
   ]
  },
  {
   "cell_type": "code",
   "execution_count": null,
   "metadata": {},
   "outputs": [],
   "source": [
    "xs = [\n",
    "  [2.0, 3.0, -1.0],\n",
    "  [3.0, -1.0, 0.5],\n",
    "  [0.5, 1.0, 1.0],\n",
    "  [1.0, 1.0, -1.0],\n",
    "]\n",
    "ys = [1.0, -1.0, -1.0, 1.0] # desired targets\n",
    "\n",
    "y_hat = [mlp(x) for x in xs]\n",
    "y_hat"
   ]
  },
  {
   "cell_type": "code",
   "execution_count": null,
   "metadata": {},
   "outputs": [],
   "source": [
    "y_hat = [mlp(x) for x in xs]\n",
    "loss = sum([(yi-y_hati)**2 for yi, y_hati in zip(y_hat, ys)])\n",
    "loss\n"
   ]
  },
  {
   "cell_type": "code",
   "execution_count": null,
   "metadata": {},
   "outputs": [],
   "source": [
    "for w in mlp.parameters(): \n",
    "  w.grad = 0\n",
    "\n",
    "loss.backward()\n",
    "\n",
    "for w in mlp.parameters(): \n",
    "  w.data += -w.grad * 1e-2"
   ]
  },
  {
   "cell_type": "code",
   "execution_count": null,
   "metadata": {},
   "outputs": [],
   "source": [
    "mlp.layers[0].neurons[0].w[0].grad"
   ]
  },
  {
   "cell_type": "code",
   "execution_count": null,
   "metadata": {},
   "outputs": [],
   "source": [
    "begin_loss = sum([(yi-y_hati)**2 for yi, y_hati in zip(y_hat, ys)])\n",
    "\n",
    "for i in range(30): \n",
    "  y_hat = [mlp(x) for x in xs]\n",
    "\n",
    "  loss = sum([(yi-y_hati)**2 for yi, y_hati in zip(y_hat, ys)])\n",
    "\n",
    "  for w in mlp.parameters(): \n",
    "    w.grad = 0\n",
    "\n",
    "  loss.backward()\n",
    "\n",
    "  for w in mlp.parameters(): \n",
    "    w.data += -w.grad * 1e-2\n",
    "\n",
    "end_loss = sum([(yi-y_hati)**2 for yi, y_hati in zip(y_hat, ys)])"
   ]
  },
  {
   "cell_type": "code",
   "execution_count": null,
   "metadata": {},
   "outputs": [],
   "source": [
    "begin_loss, end_loss"
   ]
  },
  {
   "cell_type": "code",
   "execution_count": null,
   "metadata": {},
   "outputs": [],
   "source": [
    "out = [mlp(x) for x in xs]"
   ]
  },
  {
   "cell_type": "code",
   "execution_count": null,
   "metadata": {},
   "outputs": [],
   "source": [
    "y_hat = [o.data for o in out] \n",
    "round_y_hat = [round(y) for y in y_hat] \n",
    "\n",
    "mse = sum([(yi-y_hati)**2 for yi, y_hati in zip(y_hat, ys)])\n",
    "acc = sum([y == ry_hat for y, ry_hat in zip(ys, round_y_hat)])/len(y_hat)\n",
    "print(f'loss: {mse}, accuracy: {acc}')\n",
    "\n"
   ]
  }
 ],
 "metadata": {
  "kernelspec": {
   "display_name": "Python 3.7.13 ('net')",
   "language": "python",
   "name": "python3"
  },
  "language_info": {
   "codemirror_mode": {
    "name": "ipython",
    "version": 3
   },
   "file_extension": ".py",
   "mimetype": "text/x-python",
   "name": "python",
   "nbconvert_exporter": "python",
   "pygments_lexer": "ipython3",
   "version": "3.7.13"
  },
  "orig_nbformat": 4,
  "vscode": {
   "interpreter": {
    "hash": "46b9170fdf92c23cc3e3b131494cadcf9ba12dce192d70b41d5030bfbd5436a0"
   }
  }
 },
 "nbformat": 4,
 "nbformat_minor": 2
}
