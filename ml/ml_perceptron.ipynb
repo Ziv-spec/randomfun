{
 "cells": [
  {
   "cell_type": "code",
   "execution_count": 1,
   "metadata": {},
   "outputs": [
    {
     "name": "stdout",
     "output_type": "stream",
     "text": [
      "Populating the interactive namespace from numpy and matplotlib\n"
     ]
    }
   ],
   "source": [
    "%pylab inline\n",
    "import numpy as np"
   ]
  },
  {
   "cell_type": "code",
   "execution_count": 35,
   "metadata": {},
   "outputs": [
    {
     "data": {
      "text/plain": [
       "<matplotlib.collections.PathCollection at 0x206a6784b08>"
      ]
     },
     "execution_count": 35,
     "metadata": {},
     "output_type": "execute_result"
    },
    {
     "data": {
      "image/png": "[encoded data removed]",
      "text/plain": [
       "<Figure size 576x360 with 1 Axes>"
      ]
     },
     "metadata": {
      "needs_background": "light"
     },
     "output_type": "display_data"
    }
   ],
   "source": [
    "x = np.array([2, 3, 4, 7, 8, 9]).reshape(-1, 1)\n",
    "y = np.array([0, 0, 0, 1, 1, 1])\n",
    "\n",
    "figsize(8, 5)\n",
    "plt.scatter(x, y, c=y, cmap='tab20b')"
   ]
  },
  {
   "cell_type": "code",
   "execution_count": 49,
   "metadata": {},
   "outputs": [],
   "source": [
    "# Creating a perceptron with one weight and one bias to classify data \n",
    "w = np.random.uniform(size=(1)) * 0.1\n",
    "b = np.random.uniform(size=(1)) * 0.1\n",
    "lr = 1e-2\n",
    "th = 0.5\n",
    "\n",
    "losses, accuracies = [], []"
   ]
  },
  {
   "cell_type": "code",
   "execution_count": 51,
   "metadata": {},
   "outputs": [
    {
     "name": "stdout",
     "output_type": "stream",
     "text": [
      "mse: 0.0640, accuracy: 1.00\n"
     ]
    }
   ],
   "source": [
    "\n",
    "# do do note that we are running on all of the date each epoc\n",
    "\n",
    "epoc =  30\n",
    "for i in range(epoc): \n",
    "\n",
    "  err = y - (x.dot(w)+b)\n",
    "\n",
    "  # the multiplication by -2 is just for clarity of the equasions \n",
    "  # there is absolutly no reason to include them beyond that.\n",
    "  dw = -2 * (x.T * err).mean()\n",
    "  db = -2 * err.mean()\n",
    "\n",
    "  # update the weight and bias \n",
    "  w -= dw*lr\n",
    "  b -= db*lr\n",
    "\n",
    "  # calc loss and accuracy for this run\n",
    "  mse = ((y - (x.dot(w)+b)) ** 2).mean()\n",
    "  acc = ((x.dot(w)+b > th) == y).mean()\n",
    "\n",
    "  losses.append(mse)\n",
    "  accuracies.append(acc)\n",
    "\n",
    "\n",
    "acc = ((x.dot(w)+b > th) == y).mean()\n",
    "mse = ((y - (x.dot(w)+b)) ** 2).mean()\n",
    "print(f'mse: {mse:.4f}, accuracy: {acc:.2f}')"
   ]
  },
  {
   "cell_type": "code",
   "execution_count": 52,
   "metadata": {},
   "outputs": [
    {
     "data": {
      "text/plain": [
       "(array([0.11185468]), array([-0.03087377]))"
      ]
     },
     "execution_count": 52,
     "metadata": {},
     "output_type": "execute_result"
    }
   ],
   "source": [
    "w, b # we would like the weight and bias to be small "
   ]
  },
  {
   "cell_type": "code",
   "execution_count": 53,
   "metadata": {},
   "outputs": [
    {
     "data": {
      "text/plain": [
       "[<matplotlib.lines.Line2D at 0x206a78b6ac8>]"
      ]
     },
     "execution_count": 53,
     "metadata": {},
     "output_type": "execute_result"
    },
    {
     "data": {
      "image/png": "[encoded data removed]",
      "text/plain": [
       "<Figure size 576x360 with 1 Axes>"
      ]
     },
     "metadata": {
      "needs_background": "light"
     },
     "output_type": "display_data"
    }
   ],
   "source": [
    "plt.plot(losses)\n",
    "plt.plot(accuracies)"
   ]
  },
  {
   "cell_type": "code",
   "execution_count": 54,
   "metadata": {},
   "outputs": [
    {
     "data": {
      "text/plain": [
       "(array([0.11185468]), array([-0.03087377]))"
      ]
     },
     "execution_count": 54,
     "metadata": {},
     "output_type": "execute_result"
    }
   ],
   "source": [
    "w, b "
   ]
  },
  {
   "cell_type": "code",
   "execution_count": 55,
   "metadata": {},
   "outputs": [
    {
     "data": {
      "text/plain": [
       "<matplotlib.legend.Legend at 0x206a78a46c8>"
      ]
     },
     "execution_count": 55,
     "metadata": {},
     "output_type": "execute_result"
    },
    {
     "data": {
      "image/png": "[encoded data removed]",
      "text/plain": [
       "<Figure size 576x360 with 1 Axes>"
      ]
     },
     "metadata": {
      "needs_background": "light"
     },
     "output_type": "display_data"
    }
   ],
   "source": [
    "xs = np.linspace(x.min() -1, x.max() + 1, 50)\n",
    "ys = np.linspace(y.min() - 0.5, y.max() + 0.5, 50)\n",
    "X, Y = np.meshgrid(xs, ys)\n",
    "\n",
    "predictions = xs[:, np.newaxis].dot(w)+b\n",
    "\n",
    "z = np.concatenate([predictions > th]*50).reshape(50, 50)\n",
    "plt.contourf(X, Y, z)\n",
    "\n",
    "plt.scatter(x, y, label='data')\n",
    "plt.plot(xs, predictions, c='r', label='perceptron line')\n",
    "plt.legend()"
   ]
  },
  {
   "cell_type": "code",
   "execution_count": 147,
   "metadata": {},
   "outputs": [],
   "source": [
    "# let's add a sigmoid activation layer (adding a non-linearity)\n",
    "\n",
    "def sigmoid(x): return 1/(1+np.exp(-x))\n",
    "\n",
    "w = np.random.uniform(size=(1)) * 0.1\n",
    "b = np.random.uniform(size=(1)) * 0.1\n",
    "\n",
    "lr = 3e-1\n",
    "th = 0.5\n"
   ]
  },
  {
   "cell_type": "code",
   "execution_count": 80,
   "metadata": {},
   "outputs": [
    {
     "data": {
      "text/plain": [
       "(array([[2],\n",
       "        [3],\n",
       "        [4],\n",
       "        [7],\n",
       "        [8],\n",
       "        [9]]),\n",
       " array([0.0599643]),\n",
       " array([0.01032256]))"
      ]
     },
     "execution_count": 80,
     "metadata": {},
     "output_type": "execute_result"
    }
   ],
   "source": [
    "x, w, b"
   ]
  },
  {
   "cell_type": "code",
   "execution_count": 58,
   "metadata": {},
   "outputs": [
    {
     "data": {
      "text/plain": [
       "array([0.52996405, 0.53245431, 0.53494295, 0.54239794, 0.54487889,\n",
       "       0.54735762])"
      ]
     },
     "execution_count": 58,
     "metadata": {},
     "output_type": "execute_result"
    }
   ],
   "source": [
    "def predict(x, w , b): return sigmoid(x.dot(w)+b)\n",
    "\n",
    "y_hat = predict(x, w ,b) # if we see numbers close to 0.5 this is good because we will get good gradients\n",
    "y_hat"
   ]
  },
  {
   "cell_type": "code",
   "execution_count": 59,
   "metadata": {},
   "outputs": [
    {
     "name": "stdout",
     "output_type": "stream",
     "text": [
      "dw: -0.5044148175567347\n",
      "db: 0.01968784149372725\n"
     ]
    }
   ],
   "source": [
    "# calc gradients\n",
    "err = y - y_hat\n",
    "\n",
    "dw = -2 * (x.T * err * y_hat * (1-y_hat)).mean()\n",
    "db = -2 * (err * y_hat * (1-y_hat)).mean()\n",
    "\n",
    "print(f'dw: {dw}\\ndb: {db}')"
   ]
  },
  {
   "cell_type": "code",
   "execution_count": 60,
   "metadata": {},
   "outputs": [
    {
     "data": {
      "text/plain": [
       "(array([0.16132445]), 0.09409364755188183)"
      ]
     },
     "execution_count": 60,
     "metadata": {},
     "output_type": "execute_result"
    }
   ],
   "source": [
    "# update w, b\n",
    "w -= dw * lr\n",
    "b -= db * lr\n",
    "w, b "
   ]
  },
  {
   "cell_type": "code",
   "execution_count": 61,
   "metadata": {},
   "outputs": [
    {
     "data": {
      "text/plain": [
       "(0.22573963977366562, 0.5)"
      ]
     },
     "execution_count": 61,
     "metadata": {},
     "output_type": "execute_result"
    }
   ],
   "source": [
    "y_hat = predict(x, w, b)\n",
    "mse = ((y - y_hat)**2).mean()\n",
    "acc = ((y_hat > 0.5) == y).mean()\n",
    "mse, acc"
   ]
  },
  {
   "cell_type": "code",
   "execution_count": 153,
   "metadata": {},
   "outputs": [
    {
     "data": {
      "text/plain": [
       "<matplotlib.legend.Legend at 0x206a7d8ce08>"
      ]
     },
     "execution_count": 153,
     "metadata": {},
     "output_type": "execute_result"
    },
    {
     "data": {
      "image/png": "[encoded data removed]",
      "text/plain": [
       "<Figure size 576x360 with 1 Axes>"
      ]
     },
     "metadata": {
      "needs_background": "light"
     },
     "output_type": "display_data"
    }
   ],
   "source": [
    "xs = np.linspace(x.min() -1, x.max() + 1, 50)\n",
    "ys = np.linspace(y.min() - 0.5, y.max() + 0.5, 50)\n",
    "X, Y = np.meshgrid(xs, ys)\n",
    "\n",
    "predictions = predict(xs[:, np.newaxis], w, b)\n",
    "\n",
    "z = np.concatenate([predictions > th]*50).reshape(50, 50)\n",
    "plt.contourf(X, Y, z)\n",
    "\n",
    "plt.scatter(x, y, label='data')\n",
    "plt.plot(xs, predictions, c='r', label='perceptron line')\n",
    "plt.legend()"
   ]
  },
  {
   "cell_type": "code",
   "execution_count": 140,
   "metadata": {},
   "outputs": [
    {
     "data": {
      "text/plain": [
       "(0.2241143806080479, 0.3)"
      ]
     },
     "execution_count": 140,
     "metadata": {},
     "output_type": "execute_result"
    }
   ],
   "source": [
    "\n",
    "y_hat = predict(x, w, b)\n",
    "mse = ((y - y_hat)**2).mean()\n",
    "mse, lr"
   ]
  },
  {
   "cell_type": "code",
   "execution_count": 148,
   "metadata": {},
   "outputs": [],
   "source": [
    "lr = 0.5"
   ]
  },
  {
   "cell_type": "code",
   "execution_count": 151,
   "metadata": {},
   "outputs": [
    {
     "name": "stdout",
     "output_type": "stream",
     "text": [
      "mse: 0.0854, accuracy: 1.00\n"
     ]
    }
   ],
   "source": [
    "losses = []\n",
    "accuracies = []\n",
    "\n",
    "for i in range(30):\n",
    "  y_hat = predict(x, w, b)\n",
    "  err = y-y_hat\n",
    "  dw = -2 * (x.T * err * y_hat * (1-y_hat)).mean()\n",
    "  db = -2 * (err * y_hat * (1-y_hat)).mean()\n",
    "  w -= dw * lr\n",
    "  b -= db * lr\n",
    "\n",
    "  acc = ((y_hat > th) == y).mean()\n",
    "  mse = ((y - y_hat)**2).mean()\n",
    "\n",
    "  losses.append(mse)\n",
    "  accuracies.append(acc)\n",
    "\n",
    "y_hat = predict(x, w, b)\n",
    "acc = ((y_hat > th) == y).mean()\n",
    "mse = ((y - y_hat)**2).mean()\n",
    "print(f'mse: {mse:.4f}, accuracy: {acc:.2f}')"
   ]
  },
  {
   "cell_type": "code",
   "execution_count": 152,
   "metadata": {},
   "outputs": [
    {
     "data": {
      "text/plain": [
       "<matplotlib.legend.Legend at 0x206a7ce0148>"
      ]
     },
     "execution_count": 152,
     "metadata": {},
     "output_type": "execute_result"
    },
    {
     "data": {
      "image/png": "[encoded data removed]",
      "text/plain": [
       "<Figure size 576x360 with 1 Axes>"
      ]
     },
     "metadata": {
      "needs_background": "light"
     },
     "output_type": "display_data"
    }
   ],
   "source": [
    "plt.plot(losses, label='loss')\n",
    "plt.plot(accuracies, label='acc')\n",
    "plt.legend()"
   ]
  },
  {
   "cell_type": "code",
   "execution_count": 30,
   "metadata": {},
   "outputs": [],
   "source": [
    "# One more example, now with more features. \n",
    "\n",
    "# data\n",
    "x = np.array([\n",
    "  [1,1], \n",
    "  [1,2],\n",
    "  [2,1],\n",
    "  [2,2],\n",
    "  [3,3],\n",
    "  [1,4],\n",
    "  [4,1],\n",
    "  [4,4]\n",
    "]).astype('float32')\n",
    "\n",
    "# lables\n",
    "y = np.array([0,0,0,0,1,1,1,1]).astype('float32')\n",
    "\n",
    "color = {1:'r', 0:'b'}\n"
   ]
  },
  {
   "cell_type": "code",
   "execution_count": 31,
   "metadata": {},
   "outputs": [
    {
     "data": {
      "text/plain": [
       "array([0.52774226, 0.53882911, 0.52957271, 0.54065399, 0.55351137,\n",
       "       0.56087727, 0.53323117, 0.56629756])"
      ]
     },
     "execution_count": 31,
     "metadata": {},
     "output_type": "execute_result"
    },
    {
     "data": {
      "image/png": "[encoded data removed]",
      "text/plain": [
       "<Figure size 576x360 with 1 Axes>"
      ]
     },
     "metadata": {
      "needs_background": "light"
     },
     "output_type": "display_data"
    }
   ],
   "source": [
    "plt.scatter(x[:, 0], x[:, 1], c = [color[c] for c in y])\n",
    "\n",
    "w = np.random.uniform(size = x.shape[1])*0.1\n",
    "b = np.random.uniform(size=1)*0.1\n",
    "w,b\n",
    "\n",
    "predict(x, w, b) # test whether w, b have a good starting point\n"
   ]
  },
  {
   "cell_type": "code",
   "execution_count": 34,
   "metadata": {},
   "outputs": [
    {
     "name": "stdout",
     "output_type": "stream",
     "text": [
      "0.3\n"
     ]
    }
   ],
   "source": []
  },
  {
   "cell_type": "code",
   "execution_count": 32,
   "metadata": {},
   "outputs": [
    {
     "name": "stdout",
     "output_type": "stream",
     "text": [
      "mse: 0.1426, accuracy: 0.88\n"
     ]
    }
   ],
   "source": [
    "def predict(x, w, b): return sigmoid(np.dot(x, w)+b)\n",
    "\n",
    "for i in range(100):\n",
    "  y_hat = predict(x, w, b)\n",
    "  err = y-y_hat\n",
    "  dw = -2 * (x.T * err * y_hat * (1-y_hat)).mean()\n",
    "  db = -2 * (err * y_hat * (1-y_hat)).mean()\n",
    "  w -= dw * lr\n",
    "  b -= db * lr\n",
    "\n",
    "prediction = predict(x, w, b)\n",
    "acc = ((prediction > th) == y).mean()\n",
    "mse = ((y - prediction)**2).mean()\n",
    "print(f'mse: {mse:.4f}, accuracy: {acc:.2f}')"
   ]
  },
  {
   "cell_type": "code",
   "execution_count": 33,
   "metadata": {},
   "outputs": [
    {
     "data": {
      "text/plain": [
       "<matplotlib.legend.Legend at 0x206a65f9308>"
      ]
     },
     "execution_count": 33,
     "metadata": {},
     "output_type": "execute_result"
    },
    {
     "data": {
      "image/png": "[encoded data removed]",
      "text/plain": [
       "<Figure size 576x360 with 1 Axes>"
      ]
     },
     "metadata": {
      "needs_background": "light"
     },
     "output_type": "display_data"
    }
   ],
   "source": [
    "xs = np.linspace(0, 4.5, 100)\n",
    "ys = np.linspace(0, 4.5, 100)\n",
    "X, Y = np.meshgrid(xs, ys)\n",
    "\n",
    "r1, r2 = X.flatten(), Y.flatten()\n",
    "grid = np.hstack((r1, r2))\n",
    "grid = grid.reshape(2, 100*100).T\n",
    "\n",
    "pline = sigmoid(grid.dot(w.T)+b)\n",
    "plt.contourf(X, Y, pline.reshape(100, 100).round(), cmap='Paired')\n",
    "# plt.colorbar(cmap='Paired')\n",
    "\n",
    "prediction = predict(x, w, b)\n",
    "rp = prediction.round()\n",
    "\n",
    "# plt.scatter(rp[rp == 1], y[rp == 1], cmap='Paired')\n",
    "plt.scatter(x[rp == 0][:, 0], x[rp == 0][:, 1], c = [color[c] for c in y[rp == 0]], cmap='Paired', label='0')\n",
    "plt.scatter(x[rp == 1][:, 0], x[rp == 1][:, 1], c = [color[c] for c in y[rp == 1]], cmap='Paired', label='1')\n",
    "\n",
    "acc = ((prediction > th) == y).mean()\n",
    "mse = ((y - prediction) ** 2).mean()\n",
    "\n",
    "plt.title(f'mse - {mse:.2f}, acc - {acc:.2f}')\n",
    "plt.legend()"
   ]
  },
  {
   "cell_type": "code",
   "execution_count": null,
   "metadata": {},
   "outputs": [],
   "source": []
  }
 ],
 "metadata": {
  "kernelspec": {
   "display_name": "Python 3.7.13 ('net')",
   "language": "python",
   "name": "python3"
  },
  "language_info": {
   "codemirror_mode": {
    "name": "ipython",
    "version": 3
   },
   "file_extension": ".py",
   "mimetype": "text/x-python",
   "name": "python",
   "nbconvert_exporter": "python",
   "pygments_lexer": "ipython3",
   "version": "3.7.13 (default, Mar 28 2022, 08:03:21) [MSC v.1916 64 bit (AMD64)]"
  },
  "orig_nbformat": 4,
  "vscode": {
   "interpreter": {
    "hash": "46b9170fdf92c23cc3e3b131494cadcf9ba12dce192d70b41d5030bfbd5436a0"
   }
  }
 },
 "nbformat": 4,
 "nbformat_minor": 2
}
