{
 "cells": [
  {
   "cell_type": "code",
   "execution_count": 3,
   "metadata": {},
   "outputs": [],
   "source": [
    "# learning about compression \n",
    "\n",
    "buff = None\n",
    "with open('names.txt', 'rb') as f: \n",
    "  buff = f.read()[0:10000]\n"
   ]
  },
  {
   "cell_type": "code",
   "execution_count": null,
   "metadata": {},
   "outputs": [],
   "source": [
    "\n",
    "def bitgen(buff):\n",
    "  for c in buff: \n",
    "    for i in range(8):\n",
    "      yield int(c & (0x80 >> i) != 0)\n",
    "\n",
    "g = bitgen(buff)\n",
    "\n",
    "from collections import defaultdict\n",
    "\n",
    "ctx = defaultdict(lambda: [0, 0])\n",
    "\n",
    "for i in range(8): \n",
    "  print(next(g))\n",
    "\n",
    "\n"
   ]
  },
  {
   "cell_type": "code",
   "execution_count": null,
   "metadata": {},
   "outputs": [],
   "source": []
  },
  {
   "cell_type": "code",
   "execution_count": 12,
   "metadata": {},
   "outputs": [
    {
     "data": {
      "text/plain": [
       "0.5"
      ]
     },
     "execution_count": 12,
     "metadata": {},
     "output_type": "execute_result"
    }
   ],
   "source": [
    "import math \n",
    "p = 0.5 # chance for something to happen \n",
    "entopy = -p*math.log2(p)\n",
    "entopy"
   ]
  },
  {
   "cell_type": "code",
   "execution_count": 11,
   "metadata": {},
   "outputs": [
    {
     "data": {
      "text/plain": [
       "[<matplotlib.lines.Line2D at 0x22bab92da48>]"
      ]
     },
     "execution_count": 11,
     "metadata": {},
     "output_type": "execute_result"
    },
    {
     "data": {
      "image/png": "[encoded data removed]",
      "text/plain": [
       "<Figure size 432x288 with 1 Axes>"
      ]
     },
     "metadata": {
      "needs_background": "light"
     },
     "output_type": "display_data"
    }
   ],
   "source": [
    "import numpy as np \n",
    "import matplotlib.pyplot as plt\n",
    "x = np.linspace(0.01, 1)\n",
    "y = -x*np.log2(x)\n",
    "plt.plot(x, y)\n",
    "\n"
   ]
  }
 ],
 "metadata": {
  "kernelspec": {
   "display_name": "net",
   "language": "python",
   "name": "python3"
  },
  "language_info": {
   "codemirror_mode": {
    "name": "ipython",
    "version": 3
   },
   "file_extension": ".py",
   "mimetype": "text/x-python",
   "name": "python",
   "nbconvert_exporter": "python",
   "pygments_lexer": "ipython3",
   "version": "3.7.13"
  },
  "orig_nbformat": 4,
  "vscode": {
   "interpreter": {
    "hash": "46b9170fdf92c23cc3e3b131494cadcf9ba12dce192d70b41d5030bfbd5436a0"
   }
  }
 },
 "nbformat": 4,
 "nbformat_minor": 2
}
